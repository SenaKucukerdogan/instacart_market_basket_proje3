{
 "cells": [
  {
   "cell_type": "code",
   "execution_count": 1,
   "metadata": {},
   "outputs": [],
   "source": [
    "import pandas as pd\n",
    "import numpy as np\n",
    "import seaborn as sns\n",
    "sns.set()\n",
    "\n",
    "from collections import OrderedDict\n",
    "from sklearn.linear_model import LogisticRegression\n",
    "from sklearn.model_selection import train_test_split\n",
    "from sklearn.metrics import f1_score\n",
    "from sklearn.metrics import mean_squared_error, r2_score\n",
    "from sklearn.model_selection import cross_val_score\n",
    "from sklearn.model_selection import cross_val_predict\n",
    "from sklearn.model_selection import StratifiedKFold"
   ]
  },
  {
   "cell_type": "code",
   "execution_count": 2,
   "metadata": {},
   "outputs": [],
   "source": [
    "import matplotlib.pyplot as plt\n",
    "plt.style.use(\"ggplot\")\n",
    "%matplotlib inline\n",
    "np.set_printoptions(suppress=True)\n",
    "\n",
    "from sklearn.neighbors import KNeighborsClassifier\n",
    "from sklearn.metrics import precision_score, accuracy_score, recall_score, precision_recall_curve, f1_score, fbeta_score\n",
    "from sklearn.metrics import confusion_matrix\n",
    "from sklearn.metrics import roc_auc_score, roc_curve\n",
    "from sklearn.metrics import log_loss\n",
    "from sklearn.dummy import DummyClassifier\n",
    "from sklearn.naive_bayes import BernoulliNB, GaussianNB\n",
    "from sklearn import metrics\n",
    "from sklearn import datasets\n",
    "from sklearn.ensemble import GradientBoostingClassifier, AdaBoostClassifier\n",
    "from sklearn.tree import DecisionTreeClassifier\n",
    "from sklearn.svm import SVC, LinearSVC\n",
    "from sklearn import model_selection\n",
    "\n",
    "\n",
    "\n",
    "from ipywidgets import interactive, FloatSlider\n",
    "from ipywidgets import interact, HBox, VBox, interactive_output, widgets\n",
    "from IPython.display import display"
   ]
  },
  {
   "cell_type": "code",
   "execution_count": 3,
   "metadata": {},
   "outputs": [
    {
     "data": {
      "text/html": [
       "<div>\n",
       "<style scoped>\n",
       "    .dataframe tbody tr th:only-of-type {\n",
       "        vertical-align: middle;\n",
       "    }\n",
       "\n",
       "    .dataframe tbody tr th {\n",
       "        vertical-align: top;\n",
       "    }\n",
       "\n",
       "    .dataframe thead th {\n",
       "        text-align: right;\n",
       "    }\n",
       "</style>\n",
       "<table border=\"1\" class=\"dataframe\">\n",
       "  <thead>\n",
       "    <tr style=\"text-align: right;\">\n",
       "      <th></th>\n",
       "      <th>order_id</th>\n",
       "      <th>user_id</th>\n",
       "      <th>eval_set</th>\n",
       "      <th>order_number</th>\n",
       "      <th>order_dow</th>\n",
       "      <th>order_hour_of_day</th>\n",
       "      <th>days_since_prior_order</th>\n",
       "    </tr>\n",
       "  </thead>\n",
       "  <tbody>\n",
       "    <tr>\n",
       "      <th>0</th>\n",
       "      <td>1363380</td>\n",
       "      <td>50</td>\n",
       "      <td>prior</td>\n",
       "      <td>1</td>\n",
       "      <td>3</td>\n",
       "      <td>9</td>\n",
       "      <td>NaN</td>\n",
       "    </tr>\n",
       "    <tr>\n",
       "      <th>1</th>\n",
       "      <td>3131103</td>\n",
       "      <td>50</td>\n",
       "      <td>prior</td>\n",
       "      <td>2</td>\n",
       "      <td>6</td>\n",
       "      <td>12</td>\n",
       "      <td>10.0</td>\n",
       "    </tr>\n",
       "    <tr>\n",
       "      <th>2</th>\n",
       "      <td>2197066</td>\n",
       "      <td>50</td>\n",
       "      <td>prior</td>\n",
       "      <td>3</td>\n",
       "      <td>1</td>\n",
       "      <td>13</td>\n",
       "      <td>9.0</td>\n",
       "    </tr>\n",
       "    <tr>\n",
       "      <th>3</th>\n",
       "      <td>3201640</td>\n",
       "      <td>50</td>\n",
       "      <td>prior</td>\n",
       "      <td>4</td>\n",
       "      <td>0</td>\n",
       "      <td>11</td>\n",
       "      <td>6.0</td>\n",
       "    </tr>\n",
       "    <tr>\n",
       "      <th>4</th>\n",
       "      <td>2756806</td>\n",
       "      <td>50</td>\n",
       "      <td>prior</td>\n",
       "      <td>5</td>\n",
       "      <td>4</td>\n",
       "      <td>14</td>\n",
       "      <td>11.0</td>\n",
       "    </tr>\n",
       "  </tbody>\n",
       "</table>\n",
       "</div>"
      ],
      "text/plain": [
       "   order_id  user_id eval_set  order_number  order_dow  order_hour_of_day  \\\n",
       "0   1363380       50    prior             1          3                  9   \n",
       "1   3131103       50    prior             2          6                 12   \n",
       "2   2197066       50    prior             3          1                 13   \n",
       "3   3201640       50    prior             4          0                 11   \n",
       "4   2756806       50    prior             5          4                 14   \n",
       "\n",
       "   days_since_prior_order  \n",
       "0                     NaN  \n",
       "1                    10.0  \n",
       "2                     9.0  \n",
       "3                     6.0  \n",
       "4                    11.0  "
      ]
     },
     "execution_count": 3,
     "metadata": {},
     "output_type": "execute_result"
    }
   ],
   "source": [
    "path = \"instacart_data_subset\"\n",
    "df_orders = pd.read_csv(path+\"/orders_subset.csv\")\n",
    "df_orders.head(5)"
   ]
  },
  {
   "cell_type": "code",
   "execution_count": 4,
   "metadata": {},
   "outputs": [
    {
     "data": {
      "text/html": [
       "<div>\n",
       "<style scoped>\n",
       "    .dataframe tbody tr th:only-of-type {\n",
       "        vertical-align: middle;\n",
       "    }\n",
       "\n",
       "    .dataframe tbody tr th {\n",
       "        vertical-align: top;\n",
       "    }\n",
       "\n",
       "    .dataframe thead th {\n",
       "        text-align: right;\n",
       "    }\n",
       "</style>\n",
       "<table border=\"1\" class=\"dataframe\">\n",
       "  <thead>\n",
       "    <tr style=\"text-align: right;\">\n",
       "      <th></th>\n",
       "      <th>order_id</th>\n",
       "      <th>product_id</th>\n",
       "      <th>add_to_cart_order</th>\n",
       "      <th>reordered</th>\n",
       "    </tr>\n",
       "  </thead>\n",
       "  <tbody>\n",
       "    <tr>\n",
       "      <th>0</th>\n",
       "      <td>12</td>\n",
       "      <td>30597</td>\n",
       "      <td>1</td>\n",
       "      <td>1</td>\n",
       "    </tr>\n",
       "    <tr>\n",
       "      <th>1</th>\n",
       "      <td>12</td>\n",
       "      <td>15221</td>\n",
       "      <td>2</td>\n",
       "      <td>1</td>\n",
       "    </tr>\n",
       "    <tr>\n",
       "      <th>2</th>\n",
       "      <td>12</td>\n",
       "      <td>43772</td>\n",
       "      <td>3</td>\n",
       "      <td>1</td>\n",
       "    </tr>\n",
       "  </tbody>\n",
       "</table>\n",
       "</div>"
      ],
      "text/plain": [
       "   order_id  product_id  add_to_cart_order  reordered\n",
       "0        12       30597                  1          1\n",
       "1        12       15221                  2          1\n",
       "2        12       43772                  3          1"
      ]
     },
     "execution_count": 4,
     "metadata": {},
     "output_type": "execute_result"
    }
   ],
   "source": [
    "df_order_products_prior = pd.read_csv(path + \"/order_products__prior_subset.csv\")\n",
    "df_order_products_prior.head(3)"
   ]
  },
  {
   "cell_type": "code",
   "execution_count": 5,
   "metadata": {},
   "outputs": [
    {
     "data": {
      "text/html": [
       "<div>\n",
       "<style scoped>\n",
       "    .dataframe tbody tr th:only-of-type {\n",
       "        vertical-align: middle;\n",
       "    }\n",
       "\n",
       "    .dataframe tbody tr th {\n",
       "        vertical-align: top;\n",
       "    }\n",
       "\n",
       "    .dataframe thead th {\n",
       "        text-align: right;\n",
       "    }\n",
       "</style>\n",
       "<table border=\"1\" class=\"dataframe\">\n",
       "  <thead>\n",
       "    <tr style=\"text-align: right;\">\n",
       "      <th></th>\n",
       "      <th>order_id</th>\n",
       "      <th>product_id</th>\n",
       "      <th>add_to_cart_order</th>\n",
       "      <th>reordered</th>\n",
       "    </tr>\n",
       "  </thead>\n",
       "  <tbody>\n",
       "    <tr>\n",
       "      <th>0</th>\n",
       "      <td>1077</td>\n",
       "      <td>13176</td>\n",
       "      <td>1</td>\n",
       "      <td>1</td>\n",
       "    </tr>\n",
       "    <tr>\n",
       "      <th>1</th>\n",
       "      <td>1077</td>\n",
       "      <td>39922</td>\n",
       "      <td>2</td>\n",
       "      <td>1</td>\n",
       "    </tr>\n",
       "    <tr>\n",
       "      <th>2</th>\n",
       "      <td>1077</td>\n",
       "      <td>5258</td>\n",
       "      <td>3</td>\n",
       "      <td>1</td>\n",
       "    </tr>\n",
       "  </tbody>\n",
       "</table>\n",
       "</div>"
      ],
      "text/plain": [
       "   order_id  product_id  add_to_cart_order  reordered\n",
       "0      1077       13176                  1          1\n",
       "1      1077       39922                  2          1\n",
       "2      1077        5258                  3          1"
      ]
     },
     "execution_count": 5,
     "metadata": {},
     "output_type": "execute_result"
    }
   ],
   "source": [
    "df_order_products_train = pd.read_csv(path+\"/order_products__train_subset.csv\")\n",
    "df_order_products_train.head(3)"
   ]
  },
  {
   "cell_type": "code",
   "execution_count": 6,
   "metadata": {},
   "outputs": [],
   "source": [
    "df_order_products_train = df_order_products_train.merge(df_orders.drop(\"eval_set\", axis=1), on=\"order_id\")"
   ]
  },
  {
   "cell_type": "code",
   "execution_count": 7,
   "metadata": {},
   "outputs": [
    {
     "data": {
      "text/html": [
       "<div>\n",
       "<style scoped>\n",
       "    .dataframe tbody tr th:only-of-type {\n",
       "        vertical-align: middle;\n",
       "    }\n",
       "\n",
       "    .dataframe tbody tr th {\n",
       "        vertical-align: top;\n",
       "    }\n",
       "\n",
       "    .dataframe thead th {\n",
       "        text-align: right;\n",
       "    }\n",
       "</style>\n",
       "<table border=\"1\" class=\"dataframe\">\n",
       "  <thead>\n",
       "    <tr style=\"text-align: right;\">\n",
       "      <th></th>\n",
       "      <th>order_id</th>\n",
       "      <th>product_id</th>\n",
       "      <th>add_to_cart_order</th>\n",
       "      <th>reordered</th>\n",
       "      <th>user_id</th>\n",
       "      <th>order_number</th>\n",
       "      <th>order_dow</th>\n",
       "      <th>order_hour_of_day</th>\n",
       "      <th>days_since_prior_order</th>\n",
       "    </tr>\n",
       "  </thead>\n",
       "  <tbody>\n",
       "    <tr>\n",
       "      <th>0</th>\n",
       "      <td>1077</td>\n",
       "      <td>13176</td>\n",
       "      <td>1</td>\n",
       "      <td>1</td>\n",
       "      <td>173934</td>\n",
       "      <td>11</td>\n",
       "      <td>6</td>\n",
       "      <td>9</td>\n",
       "      <td>10.0</td>\n",
       "    </tr>\n",
       "    <tr>\n",
       "      <th>1</th>\n",
       "      <td>1077</td>\n",
       "      <td>39922</td>\n",
       "      <td>2</td>\n",
       "      <td>1</td>\n",
       "      <td>173934</td>\n",
       "      <td>11</td>\n",
       "      <td>6</td>\n",
       "      <td>9</td>\n",
       "      <td>10.0</td>\n",
       "    </tr>\n",
       "    <tr>\n",
       "      <th>2</th>\n",
       "      <td>1077</td>\n",
       "      <td>5258</td>\n",
       "      <td>3</td>\n",
       "      <td>1</td>\n",
       "      <td>173934</td>\n",
       "      <td>11</td>\n",
       "      <td>6</td>\n",
       "      <td>9</td>\n",
       "      <td>10.0</td>\n",
       "    </tr>\n",
       "    <tr>\n",
       "      <th>3</th>\n",
       "      <td>1077</td>\n",
       "      <td>21137</td>\n",
       "      <td>4</td>\n",
       "      <td>1</td>\n",
       "      <td>173934</td>\n",
       "      <td>11</td>\n",
       "      <td>6</td>\n",
       "      <td>9</td>\n",
       "      <td>10.0</td>\n",
       "    </tr>\n",
       "    <tr>\n",
       "      <th>4</th>\n",
       "      <td>1119</td>\n",
       "      <td>6046</td>\n",
       "      <td>1</td>\n",
       "      <td>1</td>\n",
       "      <td>129386</td>\n",
       "      <td>7</td>\n",
       "      <td>1</td>\n",
       "      <td>14</td>\n",
       "      <td>17.0</td>\n",
       "    </tr>\n",
       "    <tr>\n",
       "      <th>...</th>\n",
       "      <td>...</td>\n",
       "      <td>...</td>\n",
       "      <td>...</td>\n",
       "      <td>...</td>\n",
       "      <td>...</td>\n",
       "      <td>...</td>\n",
       "      <td>...</td>\n",
       "      <td>...</td>\n",
       "      <td>...</td>\n",
       "    </tr>\n",
       "    <tr>\n",
       "      <th>53699</th>\n",
       "      <td>3420996</td>\n",
       "      <td>2086</td>\n",
       "      <td>7</td>\n",
       "      <td>1</td>\n",
       "      <td>15818</td>\n",
       "      <td>16</td>\n",
       "      <td>1</td>\n",
       "      <td>9</td>\n",
       "      <td>7.0</td>\n",
       "    </tr>\n",
       "    <tr>\n",
       "      <th>53700</th>\n",
       "      <td>3420996</td>\n",
       "      <td>29118</td>\n",
       "      <td>8</td>\n",
       "      <td>0</td>\n",
       "      <td>15818</td>\n",
       "      <td>16</td>\n",
       "      <td>1</td>\n",
       "      <td>9</td>\n",
       "      <td>7.0</td>\n",
       "    </tr>\n",
       "    <tr>\n",
       "      <th>53701</th>\n",
       "      <td>3420996</td>\n",
       "      <td>27423</td>\n",
       "      <td>9</td>\n",
       "      <td>1</td>\n",
       "      <td>15818</td>\n",
       "      <td>16</td>\n",
       "      <td>1</td>\n",
       "      <td>9</td>\n",
       "      <td>7.0</td>\n",
       "    </tr>\n",
       "    <tr>\n",
       "      <th>53702</th>\n",
       "      <td>3420996</td>\n",
       "      <td>12125</td>\n",
       "      <td>10</td>\n",
       "      <td>1</td>\n",
       "      <td>15818</td>\n",
       "      <td>16</td>\n",
       "      <td>1</td>\n",
       "      <td>9</td>\n",
       "      <td>7.0</td>\n",
       "    </tr>\n",
       "    <tr>\n",
       "      <th>53703</th>\n",
       "      <td>3420996</td>\n",
       "      <td>1891</td>\n",
       "      <td>11</td>\n",
       "      <td>0</td>\n",
       "      <td>15818</td>\n",
       "      <td>16</td>\n",
       "      <td>1</td>\n",
       "      <td>9</td>\n",
       "      <td>7.0</td>\n",
       "    </tr>\n",
       "  </tbody>\n",
       "</table>\n",
       "<p>53704 rows × 9 columns</p>\n",
       "</div>"
      ],
      "text/plain": [
       "       order_id  product_id  add_to_cart_order  reordered  user_id  \\\n",
       "0          1077       13176                  1          1   173934   \n",
       "1          1077       39922                  2          1   173934   \n",
       "2          1077        5258                  3          1   173934   \n",
       "3          1077       21137                  4          1   173934   \n",
       "4          1119        6046                  1          1   129386   \n",
       "...         ...         ...                ...        ...      ...   \n",
       "53699   3420996        2086                  7          1    15818   \n",
       "53700   3420996       29118                  8          0    15818   \n",
       "53701   3420996       27423                  9          1    15818   \n",
       "53702   3420996       12125                 10          1    15818   \n",
       "53703   3420996        1891                 11          0    15818   \n",
       "\n",
       "       order_number  order_dow  order_hour_of_day  days_since_prior_order  \n",
       "0                11          6                  9                    10.0  \n",
       "1                11          6                  9                    10.0  \n",
       "2                11          6                  9                    10.0  \n",
       "3                11          6                  9                    10.0  \n",
       "4                 7          1                 14                    17.0  \n",
       "...             ...        ...                ...                     ...  \n",
       "53699            16          1                  9                     7.0  \n",
       "53700            16          1                  9                     7.0  \n",
       "53701            16          1                  9                     7.0  \n",
       "53702            16          1                  9                     7.0  \n",
       "53703            16          1                  9                     7.0  \n",
       "\n",
       "[53704 rows x 9 columns]"
      ]
     },
     "execution_count": 7,
     "metadata": {},
     "output_type": "execute_result"
    }
   ],
   "source": [
    "df_order_products_train"
   ]
  },
  {
   "cell_type": "code",
   "execution_count": 8,
   "metadata": {},
   "outputs": [],
   "source": [
    "df_order_products_prior = df_order_products_prior.merge(df_orders.drop(\"eval_set\" ,axis=1),on=\"order_id\")"
   ]
  },
  {
   "cell_type": "code",
   "execution_count": 9,
   "metadata": {},
   "outputs": [
    {
     "data": {
      "text/html": [
       "<div>\n",
       "<style scoped>\n",
       "    .dataframe tbody tr th:only-of-type {\n",
       "        vertical-align: middle;\n",
       "    }\n",
       "\n",
       "    .dataframe tbody tr th {\n",
       "        vertical-align: top;\n",
       "    }\n",
       "\n",
       "    .dataframe thead th {\n",
       "        text-align: right;\n",
       "    }\n",
       "</style>\n",
       "<table border=\"1\" class=\"dataframe\">\n",
       "  <thead>\n",
       "    <tr style=\"text-align: right;\">\n",
       "      <th></th>\n",
       "      <th>order_id</th>\n",
       "      <th>product_id</th>\n",
       "      <th>add_to_cart_order</th>\n",
       "      <th>reordered</th>\n",
       "      <th>user_id</th>\n",
       "      <th>order_number</th>\n",
       "      <th>order_dow</th>\n",
       "      <th>order_hour_of_day</th>\n",
       "      <th>days_since_prior_order</th>\n",
       "    </tr>\n",
       "  </thead>\n",
       "  <tbody>\n",
       "    <tr>\n",
       "      <th>0</th>\n",
       "      <td>12</td>\n",
       "      <td>30597</td>\n",
       "      <td>1</td>\n",
       "      <td>1</td>\n",
       "      <td>152610</td>\n",
       "      <td>22</td>\n",
       "      <td>6</td>\n",
       "      <td>8</td>\n",
       "      <td>10.0</td>\n",
       "    </tr>\n",
       "    <tr>\n",
       "      <th>1</th>\n",
       "      <td>12</td>\n",
       "      <td>15221</td>\n",
       "      <td>2</td>\n",
       "      <td>1</td>\n",
       "      <td>152610</td>\n",
       "      <td>22</td>\n",
       "      <td>6</td>\n",
       "      <td>8</td>\n",
       "      <td>10.0</td>\n",
       "    </tr>\n",
       "    <tr>\n",
       "      <th>2</th>\n",
       "      <td>12</td>\n",
       "      <td>43772</td>\n",
       "      <td>3</td>\n",
       "      <td>1</td>\n",
       "      <td>152610</td>\n",
       "      <td>22</td>\n",
       "      <td>6</td>\n",
       "      <td>8</td>\n",
       "      <td>10.0</td>\n",
       "    </tr>\n",
       "    <tr>\n",
       "      <th>3</th>\n",
       "      <td>12</td>\n",
       "      <td>37886</td>\n",
       "      <td>4</td>\n",
       "      <td>1</td>\n",
       "      <td>152610</td>\n",
       "      <td>22</td>\n",
       "      <td>6</td>\n",
       "      <td>8</td>\n",
       "      <td>10.0</td>\n",
       "    </tr>\n",
       "    <tr>\n",
       "      <th>4</th>\n",
       "      <td>12</td>\n",
       "      <td>37215</td>\n",
       "      <td>5</td>\n",
       "      <td>0</td>\n",
       "      <td>152610</td>\n",
       "      <td>22</td>\n",
       "      <td>6</td>\n",
       "      <td>8</td>\n",
       "      <td>10.0</td>\n",
       "    </tr>\n",
       "    <tr>\n",
       "      <th>...</th>\n",
       "      <td>...</td>\n",
       "      <td>...</td>\n",
       "      <td>...</td>\n",
       "      <td>...</td>\n",
       "      <td>...</td>\n",
       "      <td>...</td>\n",
       "      <td>...</td>\n",
       "      <td>...</td>\n",
       "      <td>...</td>\n",
       "    </tr>\n",
       "    <tr>\n",
       "      <th>793919</th>\n",
       "      <td>3421029</td>\n",
       "      <td>29418</td>\n",
       "      <td>7</td>\n",
       "      <td>0</td>\n",
       "      <td>186579</td>\n",
       "      <td>26</td>\n",
       "      <td>6</td>\n",
       "      <td>17</td>\n",
       "      <td>21.0</td>\n",
       "    </tr>\n",
       "    <tr>\n",
       "      <th>793920</th>\n",
       "      <td>3421029</td>\n",
       "      <td>40449</td>\n",
       "      <td>8</td>\n",
       "      <td>1</td>\n",
       "      <td>186579</td>\n",
       "      <td>26</td>\n",
       "      <td>6</td>\n",
       "      <td>17</td>\n",
       "      <td>21.0</td>\n",
       "    </tr>\n",
       "    <tr>\n",
       "      <th>793921</th>\n",
       "      <td>3421029</td>\n",
       "      <td>37687</td>\n",
       "      <td>9</td>\n",
       "      <td>1</td>\n",
       "      <td>186579</td>\n",
       "      <td>26</td>\n",
       "      <td>6</td>\n",
       "      <td>17</td>\n",
       "      <td>21.0</td>\n",
       "    </tr>\n",
       "    <tr>\n",
       "      <th>793922</th>\n",
       "      <td>3421029</td>\n",
       "      <td>13852</td>\n",
       "      <td>10</td>\n",
       "      <td>0</td>\n",
       "      <td>186579</td>\n",
       "      <td>26</td>\n",
       "      <td>6</td>\n",
       "      <td>17</td>\n",
       "      <td>21.0</td>\n",
       "    </tr>\n",
       "    <tr>\n",
       "      <th>793923</th>\n",
       "      <td>3421029</td>\n",
       "      <td>47766</td>\n",
       "      <td>11</td>\n",
       "      <td>1</td>\n",
       "      <td>186579</td>\n",
       "      <td>26</td>\n",
       "      <td>6</td>\n",
       "      <td>17</td>\n",
       "      <td>21.0</td>\n",
       "    </tr>\n",
       "  </tbody>\n",
       "</table>\n",
       "<p>793924 rows × 9 columns</p>\n",
       "</div>"
      ],
      "text/plain": [
       "        order_id  product_id  add_to_cart_order  reordered  user_id  \\\n",
       "0             12       30597                  1          1   152610   \n",
       "1             12       15221                  2          1   152610   \n",
       "2             12       43772                  3          1   152610   \n",
       "3             12       37886                  4          1   152610   \n",
       "4             12       37215                  5          0   152610   \n",
       "...          ...         ...                ...        ...      ...   \n",
       "793919   3421029       29418                  7          0   186579   \n",
       "793920   3421029       40449                  8          1   186579   \n",
       "793921   3421029       37687                  9          1   186579   \n",
       "793922   3421029       13852                 10          0   186579   \n",
       "793923   3421029       47766                 11          1   186579   \n",
       "\n",
       "        order_number  order_dow  order_hour_of_day  days_since_prior_order  \n",
       "0                 22          6                  8                    10.0  \n",
       "1                 22          6                  8                    10.0  \n",
       "2                 22          6                  8                    10.0  \n",
       "3                 22          6                  8                    10.0  \n",
       "4                 22          6                  8                    10.0  \n",
       "...              ...        ...                ...                     ...  \n",
       "793919            26          6                 17                    21.0  \n",
       "793920            26          6                 17                    21.0  \n",
       "793921            26          6                 17                    21.0  \n",
       "793922            26          6                 17                    21.0  \n",
       "793923            26          6                 17                    21.0  \n",
       "\n",
       "[793924 rows x 9 columns]"
      ]
     },
     "execution_count": 9,
     "metadata": {},
     "output_type": "execute_result"
    }
   ],
   "source": [
    "df_order_products_prior"
   ]
  },
  {
   "cell_type": "code",
   "execution_count": 10,
   "metadata": {},
   "outputs": [
    {
     "name": "stdout",
     "output_type": "stream",
     "text": [
      "<class 'pandas.core.frame.DataFrame'>\n",
      "Int64Index: 793924 entries, 0 to 793923\n",
      "Data columns (total 9 columns):\n",
      " #   Column                  Non-Null Count   Dtype  \n",
      "---  ------                  --------------   -----  \n",
      " 0   order_id                793924 non-null  int64  \n",
      " 1   product_id              793924 non-null  int64  \n",
      " 2   add_to_cart_order       793924 non-null  int64  \n",
      " 3   reordered               793924 non-null  int64  \n",
      " 4   user_id                 793924 non-null  int64  \n",
      " 5   order_number            793924 non-null  int64  \n",
      " 6   order_dow               793924 non-null  int64  \n",
      " 7   order_hour_of_day       793924 non-null  int64  \n",
      " 8   days_since_prior_order  742704 non-null  float64\n",
      "dtypes: float64(1), int64(8)\n",
      "memory usage: 60.6 MB\n"
     ]
    }
   ],
   "source": [
    "df_order_products_prior.info()"
   ]
  },
  {
   "cell_type": "code",
   "execution_count": 11,
   "metadata": {},
   "outputs": [
    {
     "data": {
      "text/html": [
       "<div>\n",
       "<style scoped>\n",
       "    .dataframe tbody tr th:only-of-type {\n",
       "        vertical-align: middle;\n",
       "    }\n",
       "\n",
       "    .dataframe tbody tr th {\n",
       "        vertical-align: top;\n",
       "    }\n",
       "\n",
       "    .dataframe thead th {\n",
       "        text-align: right;\n",
       "    }\n",
       "</style>\n",
       "<table border=\"1\" class=\"dataframe\">\n",
       "  <thead>\n",
       "    <tr style=\"text-align: right;\">\n",
       "      <th></th>\n",
       "      <th>product_id</th>\n",
       "      <th>user_id</th>\n",
       "      <th>user_product_total_orders</th>\n",
       "    </tr>\n",
       "  </thead>\n",
       "  <tbody>\n",
       "    <tr>\n",
       "      <th>0</th>\n",
       "      <td>1</td>\n",
       "      <td>21285</td>\n",
       "      <td>1</td>\n",
       "    </tr>\n",
       "    <tr>\n",
       "      <th>1</th>\n",
       "      <td>1</td>\n",
       "      <td>47549</td>\n",
       "      <td>4</td>\n",
       "    </tr>\n",
       "    <tr>\n",
       "      <th>2</th>\n",
       "      <td>1</td>\n",
       "      <td>54136</td>\n",
       "      <td>1</td>\n",
       "    </tr>\n",
       "    <tr>\n",
       "      <th>3</th>\n",
       "      <td>1</td>\n",
       "      <td>54240</td>\n",
       "      <td>1</td>\n",
       "    </tr>\n",
       "    <tr>\n",
       "      <th>4</th>\n",
       "      <td>1</td>\n",
       "      <td>95730</td>\n",
       "      <td>1</td>\n",
       "    </tr>\n",
       "  </tbody>\n",
       "</table>\n",
       "</div>"
      ],
      "text/plain": [
       "   product_id  user_id  user_product_total_orders\n",
       "0           1    21285                          1\n",
       "1           1    47549                          4\n",
       "2           1    54136                          1\n",
       "3           1    54240                          1\n",
       "4           1    95730                          1"
      ]
     },
     "execution_count": 11,
     "metadata": {},
     "output_type": "execute_result"
    }
   ],
   "source": [
    "df_user_product = (df_order_products_prior.groupby([\"product_id\",\"user_id\"],as_index=False)\n",
    "                                          .agg({\"order_id\":\"count\"})\n",
    "                                          .rename(columns={\"order_id\":\"user_product_total_orders\"}))\n",
    "train_ids = df_order_products_train[\"user_id\"].unique()\n",
    "df_X =df_user_product[df_user_product[\"user_id\"].isin(train_ids)]\n",
    "df_X.head()"
   ]
  },
  {
   "cell_type": "code",
   "execution_count": 12,
   "metadata": {},
   "outputs": [
    {
     "data": {
      "text/html": [
       "<div>\n",
       "<style scoped>\n",
       "    .dataframe tbody tr th:only-of-type {\n",
       "        vertical-align: middle;\n",
       "    }\n",
       "\n",
       "    .dataframe tbody tr th {\n",
       "        vertical-align: top;\n",
       "    }\n",
       "\n",
       "    .dataframe thead th {\n",
       "        text-align: right;\n",
       "    }\n",
       "</style>\n",
       "<table border=\"1\" class=\"dataframe\">\n",
       "  <thead>\n",
       "    <tr style=\"text-align: right;\">\n",
       "      <th></th>\n",
       "      <th>product_id</th>\n",
       "      <th>user_id</th>\n",
       "      <th>user_product_total_orders</th>\n",
       "      <th>latest_cart</th>\n",
       "      <th>in_cart</th>\n",
       "    </tr>\n",
       "  </thead>\n",
       "  <tbody>\n",
       "    <tr>\n",
       "      <th>0</th>\n",
       "      <td>1</td>\n",
       "      <td>21285</td>\n",
       "      <td>1</td>\n",
       "      <td>{21573, 35561, 37710, 11759, 12341, 13176, 32478}</td>\n",
       "      <td>0</td>\n",
       "    </tr>\n",
       "    <tr>\n",
       "      <th>1</th>\n",
       "      <td>3298</td>\n",
       "      <td>21285</td>\n",
       "      <td>1</td>\n",
       "      <td>{21573, 35561, 37710, 11759, 12341, 13176, 32478}</td>\n",
       "      <td>0</td>\n",
       "    </tr>\n",
       "    <tr>\n",
       "      <th>2</th>\n",
       "      <td>4920</td>\n",
       "      <td>21285</td>\n",
       "      <td>3</td>\n",
       "      <td>{21573, 35561, 37710, 11759, 12341, 13176, 32478}</td>\n",
       "      <td>0</td>\n",
       "    </tr>\n",
       "    <tr>\n",
       "      <th>3</th>\n",
       "      <td>6066</td>\n",
       "      <td>21285</td>\n",
       "      <td>2</td>\n",
       "      <td>{21573, 35561, 37710, 11759, 12341, 13176, 32478}</td>\n",
       "      <td>0</td>\n",
       "    </tr>\n",
       "    <tr>\n",
       "      <th>4</th>\n",
       "      <td>6184</td>\n",
       "      <td>21285</td>\n",
       "      <td>6</td>\n",
       "      <td>{21573, 35561, 37710, 11759, 12341, 13176, 32478}</td>\n",
       "      <td>0</td>\n",
       "    </tr>\n",
       "    <tr>\n",
       "      <th>5</th>\n",
       "      <td>7987</td>\n",
       "      <td>21285</td>\n",
       "      <td>2</td>\n",
       "      <td>{21573, 35561, 37710, 11759, 12341, 13176, 32478}</td>\n",
       "      <td>0</td>\n",
       "    </tr>\n",
       "    <tr>\n",
       "      <th>6</th>\n",
       "      <td>10509</td>\n",
       "      <td>21285</td>\n",
       "      <td>5</td>\n",
       "      <td>{21573, 35561, 37710, 11759, 12341, 13176, 32478}</td>\n",
       "      <td>0</td>\n",
       "    </tr>\n",
       "    <tr>\n",
       "      <th>7</th>\n",
       "      <td>11759</td>\n",
       "      <td>21285</td>\n",
       "      <td>30</td>\n",
       "      <td>{21573, 35561, 37710, 11759, 12341, 13176, 32478}</td>\n",
       "      <td>1</td>\n",
       "    </tr>\n",
       "    <tr>\n",
       "      <th>8</th>\n",
       "      <td>12341</td>\n",
       "      <td>21285</td>\n",
       "      <td>35</td>\n",
       "      <td>{21573, 35561, 37710, 11759, 12341, 13176, 32478}</td>\n",
       "      <td>1</td>\n",
       "    </tr>\n",
       "    <tr>\n",
       "      <th>9</th>\n",
       "      <td>13042</td>\n",
       "      <td>21285</td>\n",
       "      <td>1</td>\n",
       "      <td>{21573, 35561, 37710, 11759, 12341, 13176, 32478}</td>\n",
       "      <td>0</td>\n",
       "    </tr>\n",
       "  </tbody>\n",
       "</table>\n",
       "</div>"
      ],
      "text/plain": [
       "   product_id  user_id  user_product_total_orders  \\\n",
       "0           1    21285                          1   \n",
       "1        3298    21285                          1   \n",
       "2        4920    21285                          3   \n",
       "3        6066    21285                          2   \n",
       "4        6184    21285                          6   \n",
       "5        7987    21285                          2   \n",
       "6       10509    21285                          5   \n",
       "7       11759    21285                         30   \n",
       "8       12341    21285                         35   \n",
       "9       13042    21285                          1   \n",
       "\n",
       "                                         latest_cart  in_cart  \n",
       "0  {21573, 35561, 37710, 11759, 12341, 13176, 32478}        0  \n",
       "1  {21573, 35561, 37710, 11759, 12341, 13176, 32478}        0  \n",
       "2  {21573, 35561, 37710, 11759, 12341, 13176, 32478}        0  \n",
       "3  {21573, 35561, 37710, 11759, 12341, 13176, 32478}        0  \n",
       "4  {21573, 35561, 37710, 11759, 12341, 13176, 32478}        0  \n",
       "5  {21573, 35561, 37710, 11759, 12341, 13176, 32478}        0  \n",
       "6  {21573, 35561, 37710, 11759, 12341, 13176, 32478}        0  \n",
       "7  {21573, 35561, 37710, 11759, 12341, 13176, 32478}        1  \n",
       "8  {21573, 35561, 37710, 11759, 12341, 13176, 32478}        1  \n",
       "9  {21573, 35561, 37710, 11759, 12341, 13176, 32478}        0  "
      ]
     },
     "execution_count": 12,
     "metadata": {},
     "output_type": "execute_result"
    }
   ],
   "source": [
    "train_carts = (df_order_products_train.groupby(\"user_id\", as_index=False)\n",
    "                                      .agg({\"product_id\":(lambda x: set(x))})\n",
    "                                      .rename(columns={\"product_id\":\"latest_cart\"}))\n",
    "\n",
    "df_X = df_X.merge(train_carts, on=\"user_id\")\n",
    "df_X[\"in_cart\"] = (df_X.apply(lambda row: row[\"product_id\"] in row[\"latest_cart\"], axis=1).astype(int))\n",
    "\n",
    "df_X.head(10)"
   ]
  },
  {
   "cell_type": "code",
   "execution_count": 13,
   "metadata": {},
   "outputs": [
    {
     "data": {
      "text/plain": [
       "0    0.901945\n",
       "1    0.098055\n",
       "Name: in_cart, dtype: float64"
      ]
     },
     "execution_count": 13,
     "metadata": {},
     "output_type": "execute_result"
    }
   ],
   "source": [
    "target_pcts = df_X.in_cart.value_counts(normalize=True)\n",
    "target_pcts"
   ]
  },
  {
   "cell_type": "code",
   "execution_count": 14,
   "metadata": {},
   "outputs": [
    {
     "data": {
      "text/plain": [
       "<matplotlib.axes._subplots.AxesSubplot at 0x1269375f8c8>"
      ]
     },
     "execution_count": 14,
     "metadata": {},
     "output_type": "execute_result"
    },
    {
     "data": {
      "image/png": "[encoded data removed]",
      "text/plain": [
       "<Figure size 432x288 with 1 Axes>"
      ]
     },
     "metadata": {
      "needs_background": "light"
     },
     "output_type": "display_data"
    }
   ],
   "source": [
    "target_pcts.plot(kind=\"bar\")"
   ]
  },
  {
   "cell_type": "code",
   "execution_count": 15,
   "metadata": {},
   "outputs": [],
   "source": [
    "def get_user_split_data(df, test_size=.2, seed=42):\n",
    "    \n",
    "    rs = np.random.RandomState(seed)\n",
    "    \n",
    "    total_users = df[\"user_id\"].unique()\n",
    "    test_users = rs.choice(total_users, size=int(total_users.shape[0]*test_size), replace=False)\n",
    "    \n",
    "    df_tr = df[~df[\"user_id\"].isin(test_users)]\n",
    "    df_te = df[df[\"user_id\"].isin(test_users)]\n",
    "    \n",
    "    y_tr, y_te = df_tr[\"in_cart\"], df_te[\"in_cart\"]\n",
    "    X_tr = df_tr.drop([\"product_id\", \"user_id\", \"latest_cart\", \"in_cart\"],axis=1)\n",
    "    X_te = df_te.drop([\"product_id\", \"user_id\", \"latest_cart\", \"in_cart\"],axis=1)\n",
    "    \n",
    "    return X_tr, X_te, y_tr, y_te"
   ]
  },
  {
   "cell_type": "code",
   "execution_count": 16,
   "metadata": {},
   "outputs": [
    {
     "data": {
      "text/plain": [
       "0.08205128205128205"
      ]
     },
     "execution_count": 16,
     "metadata": {},
     "output_type": "execute_result"
    }
   ],
   "source": [
    "X_tr, X_te, y_tr, y_te = get_user_split_data(df_X)\n",
    "\n",
    "lr = LogisticRegression(solver=\"lbfgs\")\n",
    "lr.fit(X_tr, y_tr)\n",
    "f1_score(lr.predict(X_te), y_te)"
   ]
  },
  {
   "cell_type": "code",
   "execution_count": 17,
   "metadata": {},
   "outputs": [
    {
     "data": {
      "text/plain": [
       "array([[0.14981264]])"
      ]
     },
     "execution_count": 17,
     "metadata": {},
     "output_type": "execute_result"
    }
   ],
   "source": [
    "lr.coef_"
   ]
  },
  {
   "cell_type": "code",
   "execution_count": 18,
   "metadata": {},
   "outputs": [
    {
     "data": {
      "text/html": [
       "<div>\n",
       "<style scoped>\n",
       "    .dataframe tbody tr th:only-of-type {\n",
       "        vertical-align: middle;\n",
       "    }\n",
       "\n",
       "    .dataframe tbody tr th {\n",
       "        vertical-align: top;\n",
       "    }\n",
       "\n",
       "    .dataframe thead th {\n",
       "        text-align: right;\n",
       "    }\n",
       "</style>\n",
       "<table border=\"1\" class=\"dataframe\">\n",
       "  <thead>\n",
       "    <tr style=\"text-align: right;\">\n",
       "      <th></th>\n",
       "      <th>product_id</th>\n",
       "      <th>product_total_orders</th>\n",
       "      <th>product_avg_add_to_cart_order</th>\n",
       "    </tr>\n",
       "  </thead>\n",
       "  <tbody>\n",
       "    <tr>\n",
       "      <th>0</th>\n",
       "      <td>1</td>\n",
       "      <td>26</td>\n",
       "      <td>4.576923</td>\n",
       "    </tr>\n",
       "    <tr>\n",
       "      <th>1</th>\n",
       "      <td>2</td>\n",
       "      <td>1</td>\n",
       "      <td>3.000000</td>\n",
       "    </tr>\n",
       "    <tr>\n",
       "      <th>2</th>\n",
       "      <td>3</td>\n",
       "      <td>1</td>\n",
       "      <td>4.000000</td>\n",
       "    </tr>\n",
       "    <tr>\n",
       "      <th>3</th>\n",
       "      <td>4</td>\n",
       "      <td>10</td>\n",
       "      <td>8.100000</td>\n",
       "    </tr>\n",
       "    <tr>\n",
       "      <th>4</th>\n",
       "      <td>8</td>\n",
       "      <td>1</td>\n",
       "      <td>25.000000</td>\n",
       "    </tr>\n",
       "  </tbody>\n",
       "</table>\n",
       "</div>"
      ],
      "text/plain": [
       "   product_id  product_total_orders  product_avg_add_to_cart_order\n",
       "0           1                    26                       4.576923\n",
       "1           2                     1                       3.000000\n",
       "2           3                     1                       4.000000\n",
       "3           4                    10                       8.100000\n",
       "4           8                     1                      25.000000"
      ]
     },
     "execution_count": 18,
     "metadata": {},
     "output_type": "execute_result"
    }
   ],
   "source": [
    "prod_features = [\"product_total_orders\",\"product_avg_add_to_cart_order\"]\n",
    "\n",
    "df_prod_features = (df_order_products_prior.groupby([\"product_id\"],as_index=False)\n",
    "                                           .agg(OrderedDict([(\"order_id\",\"nunique\"),(\"add_to_cart_order\",\"mean\")])))\n",
    "\n",
    "df_prod_features.columns = [\"product_id\"] + prod_features\n",
    "df_prod_features.head()"
   ]
  },
  {
   "cell_type": "code",
   "execution_count": 19,
   "metadata": {},
   "outputs": [
    {
     "data": {
      "text/html": [
       "<div>\n",
       "<style scoped>\n",
       "    .dataframe tbody tr th:only-of-type {\n",
       "        vertical-align: middle;\n",
       "    }\n",
       "\n",
       "    .dataframe tbody tr th {\n",
       "        vertical-align: top;\n",
       "    }\n",
       "\n",
       "    .dataframe thead th {\n",
       "        text-align: right;\n",
       "    }\n",
       "</style>\n",
       "<table border=\"1\" class=\"dataframe\">\n",
       "  <thead>\n",
       "    <tr style=\"text-align: right;\">\n",
       "      <th></th>\n",
       "      <th>product_id</th>\n",
       "      <th>user_id</th>\n",
       "      <th>user_product_total_orders</th>\n",
       "      <th>latest_cart</th>\n",
       "      <th>in_cart</th>\n",
       "      <th>product_total_orders</th>\n",
       "      <th>product_avg_add_to_cart_order</th>\n",
       "    </tr>\n",
       "  </thead>\n",
       "  <tbody>\n",
       "    <tr>\n",
       "      <th>0</th>\n",
       "      <td>1</td>\n",
       "      <td>21285</td>\n",
       "      <td>1</td>\n",
       "      <td>{21573, 35561, 37710, 11759, 12341, 13176, 32478}</td>\n",
       "      <td>0</td>\n",
       "      <td>26</td>\n",
       "      <td>4.576923</td>\n",
       "    </tr>\n",
       "    <tr>\n",
       "      <th>1</th>\n",
       "      <td>1</td>\n",
       "      <td>47549</td>\n",
       "      <td>4</td>\n",
       "      <td>{27845, 27790, 13042, 10326, 37687}</td>\n",
       "      <td>0</td>\n",
       "      <td>26</td>\n",
       "      <td>4.576923</td>\n",
       "    </tr>\n",
       "    <tr>\n",
       "      <th>2</th>\n",
       "      <td>1</td>\n",
       "      <td>54136</td>\n",
       "      <td>1</td>\n",
       "      <td>{47977, 5450, 26604, 5296, 11123, 24852, 10070...</td>\n",
       "      <td>0</td>\n",
       "      <td>26</td>\n",
       "      <td>4.576923</td>\n",
       "    </tr>\n",
       "    <tr>\n",
       "      <th>3</th>\n",
       "      <td>1</td>\n",
       "      <td>54240</td>\n",
       "      <td>1</td>\n",
       "      <td>{12427, 26348}</td>\n",
       "      <td>0</td>\n",
       "      <td>26</td>\n",
       "      <td>4.576923</td>\n",
       "    </tr>\n",
       "    <tr>\n",
       "      <th>4</th>\n",
       "      <td>1</td>\n",
       "      <td>95730</td>\n",
       "      <td>1</td>\n",
       "      <td>{39657, 10441, 12427, 37710, 10258, 32921, 45051}</td>\n",
       "      <td>0</td>\n",
       "      <td>26</td>\n",
       "      <td>4.576923</td>\n",
       "    </tr>\n",
       "  </tbody>\n",
       "</table>\n",
       "</div>"
      ],
      "text/plain": [
       "   product_id  user_id  user_product_total_orders  \\\n",
       "0           1    21285                          1   \n",
       "1           1    47549                          4   \n",
       "2           1    54136                          1   \n",
       "3           1    54240                          1   \n",
       "4           1    95730                          1   \n",
       "\n",
       "                                         latest_cart  in_cart  \\\n",
       "0  {21573, 35561, 37710, 11759, 12341, 13176, 32478}        0   \n",
       "1                {27845, 27790, 13042, 10326, 37687}        0   \n",
       "2  {47977, 5450, 26604, 5296, 11123, 24852, 10070...        0   \n",
       "3                                     {12427, 26348}        0   \n",
       "4  {39657, 10441, 12427, 37710, 10258, 32921, 45051}        0   \n",
       "\n",
       "   product_total_orders  product_avg_add_to_cart_order  \n",
       "0                    26                       4.576923  \n",
       "1                    26                       4.576923  \n",
       "2                    26                       4.576923  \n",
       "3                    26                       4.576923  \n",
       "4                    26                       4.576923  "
      ]
     },
     "execution_count": 19,
     "metadata": {},
     "output_type": "execute_result"
    }
   ],
   "source": [
    "df_X = df_X.merge(df_prod_features, on=\"product_id\")\n",
    "\n",
    "df_X.head()"
   ]
  },
  {
   "cell_type": "code",
   "execution_count": 20,
   "metadata": {},
   "outputs": [
    {
     "data": {
      "text/plain": [
       "0.0925925925925926"
      ]
     },
     "execution_count": 20,
     "metadata": {},
     "output_type": "execute_result"
    }
   ],
   "source": [
    "X_tr, X_te, y_tr, y_te = get_user_split_data(df_X)\n",
    "\n",
    "lr = LogisticRegression()\n",
    "lr.fit(X_tr, y_tr)\n",
    "f1_score(lr.predict(X_te), y_te)"
   ]
  },
  {
   "cell_type": "code",
   "execution_count": 21,
   "metadata": {},
   "outputs": [
    {
     "data": {
      "text/html": [
       "<div>\n",
       "<style scoped>\n",
       "    .dataframe tbody tr th:only-of-type {\n",
       "        vertical-align: middle;\n",
       "    }\n",
       "\n",
       "    .dataframe tbody tr th {\n",
       "        vertical-align: top;\n",
       "    }\n",
       "\n",
       "    .dataframe thead th {\n",
       "        text-align: right;\n",
       "    }\n",
       "</style>\n",
       "<table border=\"1\" class=\"dataframe\">\n",
       "  <thead>\n",
       "    <tr style=\"text-align: right;\">\n",
       "      <th></th>\n",
       "      <th>user_id</th>\n",
       "      <th>user_total_orders</th>\n",
       "      <th>user_avg_cartsize</th>\n",
       "      <th>user_total_products</th>\n",
       "      <th>user_avg_since_prior_order</th>\n",
       "    </tr>\n",
       "  </thead>\n",
       "  <tbody>\n",
       "    <tr>\n",
       "      <th>0</th>\n",
       "      <td>50</td>\n",
       "      <td>67</td>\n",
       "      <td>6.761194</td>\n",
       "      <td>89</td>\n",
       "      <td>5.691275</td>\n",
       "    </tr>\n",
       "    <tr>\n",
       "      <th>1</th>\n",
       "      <td>52</td>\n",
       "      <td>27</td>\n",
       "      <td>6.259259</td>\n",
       "      <td>51</td>\n",
       "      <td>9.134969</td>\n",
       "    </tr>\n",
       "    <tr>\n",
       "      <th>2</th>\n",
       "      <td>65</td>\n",
       "      <td>14</td>\n",
       "      <td>9.428571</td>\n",
       "      <td>80</td>\n",
       "      <td>13.594828</td>\n",
       "    </tr>\n",
       "    <tr>\n",
       "      <th>3</th>\n",
       "      <td>80</td>\n",
       "      <td>12</td>\n",
       "      <td>10.666667</td>\n",
       "      <td>52</td>\n",
       "      <td>9.857143</td>\n",
       "    </tr>\n",
       "    <tr>\n",
       "      <th>4</th>\n",
       "      <td>220</td>\n",
       "      <td>16</td>\n",
       "      <td>7.125000</td>\n",
       "      <td>44</td>\n",
       "      <td>14.980000</td>\n",
       "    </tr>\n",
       "  </tbody>\n",
       "</table>\n",
       "</div>"
      ],
      "text/plain": [
       "   user_id  user_total_orders  user_avg_cartsize  user_total_products  \\\n",
       "0       50                 67           6.761194                   89   \n",
       "1       52                 27           6.259259                   51   \n",
       "2       65                 14           9.428571                   80   \n",
       "3       80                 12          10.666667                   52   \n",
       "4      220                 16           7.125000                   44   \n",
       "\n",
       "   user_avg_since_prior_order  \n",
       "0                    5.691275  \n",
       "1                    9.134969  \n",
       "2                   13.594828  \n",
       "3                    9.857143  \n",
       "4                   14.980000  "
      ]
     },
     "execution_count": 21,
     "metadata": {},
     "output_type": "execute_result"
    }
   ],
   "source": [
    "user_features = [\"user_total_orders\", \"user_avg_cartsize\", \"user_total_products\", \"user_avg_since_prior_order\"]\n",
    "\n",
    "df_user_features = (df_order_products_prior.groupby([\"user_id\"], as_index=False)\n",
    "                                           .agg(OrderedDict(\n",
    "                                                 [(\"order_id\",[\"nunique\", (lambda x: x.shape[0] / x.nunique())]),\n",
    "                                                  (\"product_id\",\"nunique\"),\n",
    "                                                  (\"days_since_prior_order\",\"mean\")])))\n",
    "\n",
    "df_user_features.columns = [\"user_id\"] + user_features\n",
    "df_user_features.head()"
   ]
  },
  {
   "cell_type": "code",
   "execution_count": 22,
   "metadata": {},
   "outputs": [
    {
     "data": {
      "text/html": [
       "<div>\n",
       "<style scoped>\n",
       "    .dataframe tbody tr th:only-of-type {\n",
       "        vertical-align: middle;\n",
       "    }\n",
       "\n",
       "    .dataframe tbody tr th {\n",
       "        vertical-align: top;\n",
       "    }\n",
       "\n",
       "    .dataframe thead th {\n",
       "        text-align: right;\n",
       "    }\n",
       "</style>\n",
       "<table border=\"1\" class=\"dataframe\">\n",
       "  <thead>\n",
       "    <tr style=\"text-align: right;\">\n",
       "      <th></th>\n",
       "      <th>product_id</th>\n",
       "      <th>user_id</th>\n",
       "      <th>user_product_total_orders</th>\n",
       "      <th>latest_cart</th>\n",
       "      <th>in_cart</th>\n",
       "      <th>product_total_orders</th>\n",
       "      <th>product_avg_add_to_cart_order</th>\n",
       "      <th>user_total_orders</th>\n",
       "      <th>user_avg_cartsize</th>\n",
       "      <th>user_total_products</th>\n",
       "      <th>user_avg_since_prior_order</th>\n",
       "    </tr>\n",
       "  </thead>\n",
       "  <tbody>\n",
       "    <tr>\n",
       "      <th>0</th>\n",
       "      <td>1</td>\n",
       "      <td>21285</td>\n",
       "      <td>1</td>\n",
       "      <td>{21573, 35561, 37710, 11759, 12341, 13176, 32478}</td>\n",
       "      <td>0</td>\n",
       "      <td>26</td>\n",
       "      <td>4.576923</td>\n",
       "      <td>48</td>\n",
       "      <td>6.604167</td>\n",
       "      <td>46</td>\n",
       "      <td>8.044872</td>\n",
       "    </tr>\n",
       "  </tbody>\n",
       "</table>\n",
       "</div>"
      ],
      "text/plain": [
       "   product_id  user_id  user_product_total_orders  \\\n",
       "0           1    21285                          1   \n",
       "\n",
       "                                         latest_cart  in_cart  \\\n",
       "0  {21573, 35561, 37710, 11759, 12341, 13176, 32478}        0   \n",
       "\n",
       "   product_total_orders  product_avg_add_to_cart_order  user_total_orders  \\\n",
       "0                    26                       4.576923                 48   \n",
       "\n",
       "   user_avg_cartsize  user_total_products  user_avg_since_prior_order  \n",
       "0           6.604167                   46                    8.044872  "
      ]
     },
     "execution_count": 22,
     "metadata": {},
     "output_type": "execute_result"
    }
   ],
   "source": [
    "df_X = df_X.merge(df_user_features, on=\"user_id\")\n",
    "df_X = df_X.dropna()\n",
    "df_X.head(1)"
   ]
  },
  {
   "cell_type": "code",
   "execution_count": 23,
   "metadata": {},
   "outputs": [
    {
     "name": "stderr",
     "output_type": "stream",
     "text": [
      "C:\\Users\\ASUS\\anaconda3\\lib\\site-packages\\sklearn\\linear_model\\_logistic.py:764: ConvergenceWarning: lbfgs failed to converge (status=1):\n",
      "STOP: TOTAL NO. of ITERATIONS REACHED LIMIT.\n",
      "\n",
      "Increase the number of iterations (max_iter) or scale the data as shown in:\n",
      "    https://scikit-learn.org/stable/modules/preprocessing.html\n",
      "Please also refer to the documentation for alternative solver options:\n",
      "    https://scikit-learn.org/stable/modules/linear_model.html#logistic-regression\n",
      "  extra_warning_msg=_LOGISTIC_SOLVER_CONVERGENCE_MSG)\n"
     ]
    },
    {
     "data": {
      "text/plain": [
       "0.13081554460864805"
      ]
     },
     "execution_count": 23,
     "metadata": {},
     "output_type": "execute_result"
    }
   ],
   "source": [
    "X_tr, X_te, y_tr, y_te = get_user_split_data(df_X)\n",
    "\n",
    "lr = LogisticRegression()\n",
    "lr.fit(X_tr, y_tr)\n",
    "f1_score(lr.predict(X_te), y_te)"
   ]
  },
  {
   "cell_type": "code",
   "execution_count": 24,
   "metadata": {},
   "outputs": [
    {
     "data": {
      "text/html": [
       "<div>\n",
       "<style scoped>\n",
       "    .dataframe tbody tr th:only-of-type {\n",
       "        vertical-align: middle;\n",
       "    }\n",
       "\n",
       "    .dataframe tbody tr th {\n",
       "        vertical-align: top;\n",
       "    }\n",
       "\n",
       "    .dataframe thead th {\n",
       "        text-align: right;\n",
       "    }\n",
       "</style>\n",
       "<table border=\"1\" class=\"dataframe\">\n",
       "  <thead>\n",
       "    <tr style=\"text-align: right;\">\n",
       "      <th></th>\n",
       "      <th>product_id</th>\n",
       "      <th>user_id</th>\n",
       "      <th>user_product_avg_add_to_cart_order</th>\n",
       "    </tr>\n",
       "  </thead>\n",
       "  <tbody>\n",
       "    <tr>\n",
       "      <th>0</th>\n",
       "      <td>1</td>\n",
       "      <td>21285</td>\n",
       "      <td>3.0</td>\n",
       "    </tr>\n",
       "    <tr>\n",
       "      <th>1</th>\n",
       "      <td>1</td>\n",
       "      <td>47549</td>\n",
       "      <td>4.0</td>\n",
       "    </tr>\n",
       "    <tr>\n",
       "      <th>2</th>\n",
       "      <td>1</td>\n",
       "      <td>54136</td>\n",
       "      <td>3.0</td>\n",
       "    </tr>\n",
       "    <tr>\n",
       "      <th>3</th>\n",
       "      <td>1</td>\n",
       "      <td>54240</td>\n",
       "      <td>2.0</td>\n",
       "    </tr>\n",
       "    <tr>\n",
       "      <th>4</th>\n",
       "      <td>1</td>\n",
       "      <td>95730</td>\n",
       "      <td>1.0</td>\n",
       "    </tr>\n",
       "  </tbody>\n",
       "</table>\n",
       "</div>"
      ],
      "text/plain": [
       "   product_id  user_id  user_product_avg_add_to_cart_order\n",
       "0           1    21285                                 3.0\n",
       "1           1    47549                                 4.0\n",
       "2           1    54136                                 3.0\n",
       "3           1    54240                                 2.0\n",
       "4           1    95730                                 1.0"
      ]
     },
     "execution_count": 24,
     "metadata": {},
     "output_type": "execute_result"
    }
   ],
   "source": [
    "user_prod_features = [\"user_product_avg_add_to_cart_order\"]\n",
    "\n",
    "df_user_prod_features = (df_order_products_prior.groupby([\"product_id\",\"user_id\"],as_index=False)\\\n",
    "                                                .agg(OrderedDict([(\"add_to_cart_order\",\"mean\")])))\n",
    "\n",
    "df_user_prod_features.columns = [\"product_id\",\"user_id\"] + user_prod_features\n",
    "df_user_prod_features.head()"
   ]
  },
  {
   "cell_type": "code",
   "execution_count": 25,
   "metadata": {},
   "outputs": [
    {
     "data": {
      "text/html": [
       "<div>\n",
       "<style scoped>\n",
       "    .dataframe tbody tr th:only-of-type {\n",
       "        vertical-align: middle;\n",
       "    }\n",
       "\n",
       "    .dataframe tbody tr th {\n",
       "        vertical-align: top;\n",
       "    }\n",
       "\n",
       "    .dataframe thead th {\n",
       "        text-align: right;\n",
       "    }\n",
       "</style>\n",
       "<table border=\"1\" class=\"dataframe\">\n",
       "  <thead>\n",
       "    <tr style=\"text-align: right;\">\n",
       "      <th></th>\n",
       "      <th>product_id</th>\n",
       "      <th>user_id</th>\n",
       "      <th>user_product_total_orders</th>\n",
       "      <th>latest_cart</th>\n",
       "      <th>in_cart</th>\n",
       "      <th>product_total_orders</th>\n",
       "      <th>product_avg_add_to_cart_order</th>\n",
       "      <th>user_total_orders</th>\n",
       "      <th>user_avg_cartsize</th>\n",
       "      <th>user_total_products</th>\n",
       "      <th>user_avg_since_prior_order</th>\n",
       "      <th>user_product_avg_add_to_cart_order</th>\n",
       "      <th>user_product_order_freq</th>\n",
       "    </tr>\n",
       "  </thead>\n",
       "  <tbody>\n",
       "    <tr>\n",
       "      <th>0</th>\n",
       "      <td>1</td>\n",
       "      <td>21285</td>\n",
       "      <td>1</td>\n",
       "      <td>{21573, 35561, 37710, 11759, 12341, 13176, 32478}</td>\n",
       "      <td>0</td>\n",
       "      <td>26</td>\n",
       "      <td>4.576923</td>\n",
       "      <td>48</td>\n",
       "      <td>6.604167</td>\n",
       "      <td>46</td>\n",
       "      <td>8.044872</td>\n",
       "      <td>3.0</td>\n",
       "      <td>0.020833</td>\n",
       "    </tr>\n",
       "    <tr>\n",
       "      <th>1</th>\n",
       "      <td>3298</td>\n",
       "      <td>21285</td>\n",
       "      <td>1</td>\n",
       "      <td>{21573, 35561, 37710, 11759, 12341, 13176, 32478}</td>\n",
       "      <td>0</td>\n",
       "      <td>323</td>\n",
       "      <td>5.786378</td>\n",
       "      <td>48</td>\n",
       "      <td>6.604167</td>\n",
       "      <td>46</td>\n",
       "      <td>8.044872</td>\n",
       "      <td>5.0</td>\n",
       "      <td>0.020833</td>\n",
       "    </tr>\n",
       "  </tbody>\n",
       "</table>\n",
       "</div>"
      ],
      "text/plain": [
       "   product_id  user_id  user_product_total_orders  \\\n",
       "0           1    21285                          1   \n",
       "1        3298    21285                          1   \n",
       "\n",
       "                                         latest_cart  in_cart  \\\n",
       "0  {21573, 35561, 37710, 11759, 12341, 13176, 32478}        0   \n",
       "1  {21573, 35561, 37710, 11759, 12341, 13176, 32478}        0   \n",
       "\n",
       "   product_total_orders  product_avg_add_to_cart_order  user_total_orders  \\\n",
       "0                    26                       4.576923                 48   \n",
       "1                   323                       5.786378                 48   \n",
       "\n",
       "   user_avg_cartsize  user_total_products  user_avg_since_prior_order  \\\n",
       "0           6.604167                   46                    8.044872   \n",
       "1           6.604167                   46                    8.044872   \n",
       "\n",
       "   user_product_avg_add_to_cart_order  user_product_order_freq  \n",
       "0                                 3.0                 0.020833  \n",
       "1                                 5.0                 0.020833  "
      ]
     },
     "execution_count": 25,
     "metadata": {},
     "output_type": "execute_result"
    }
   ],
   "source": [
    "df_X = df_X.merge(df_user_prod_features, on=[\"user_id\",\"product_id\"])\n",
    "df_X[\"user_product_order_freq\"] = df_X[\"user_product_total_orders\"] / df_X[\"user_total_orders\"]\n",
    "df_X.head(2)"
   ]
  },
  {
   "cell_type": "code",
   "execution_count": 26,
   "metadata": {},
   "outputs": [
    {
     "name": "stderr",
     "output_type": "stream",
     "text": [
      "C:\\Users\\ASUS\\anaconda3\\lib\\site-packages\\sklearn\\linear_model\\_logistic.py:764: ConvergenceWarning: lbfgs failed to converge (status=1):\n",
      "STOP: TOTAL NO. of ITERATIONS REACHED LIMIT.\n",
      "\n",
      "Increase the number of iterations (max_iter) or scale the data as shown in:\n",
      "    https://scikit-learn.org/stable/modules/preprocessing.html\n",
      "Please also refer to the documentation for alternative solver options:\n",
      "    https://scikit-learn.org/stable/modules/linear_model.html#logistic-regression\n",
      "  extra_warning_msg=_LOGISTIC_SOLVER_CONVERGENCE_MSG)\n"
     ]
    },
    {
     "data": {
      "text/plain": [
       "0.14148518869200594"
      ]
     },
     "execution_count": 26,
     "metadata": {},
     "output_type": "execute_result"
    }
   ],
   "source": [
    "X_tr, X_te, y_tr, y_te = get_user_split_data(df_X)\n",
    "\n",
    "lr = LogisticRegression(C=1)\n",
    "lr.fit(X_tr, y_tr)\n",
    "f1_score(lr.predict(X_te,), y_te)"
   ]
  },
  {
   "cell_type": "code",
   "execution_count": 27,
   "metadata": {},
   "outputs": [],
   "source": [
    "df_X.to_csv(path+\"/instacart_df_X_features2.csv\", index=False)"
   ]
  },
  {
   "cell_type": "code",
   "execution_count": 28,
   "metadata": {},
   "outputs": [],
   "source": [
    "df_products = pd.read_csv(path+\"/products.csv\")"
   ]
  },
  {
   "cell_type": "code",
   "execution_count": 29,
   "metadata": {},
   "outputs": [
    {
     "data": {
      "text/html": [
       "<div>\n",
       "<style scoped>\n",
       "    .dataframe tbody tr th:only-of-type {\n",
       "        vertical-align: middle;\n",
       "    }\n",
       "\n",
       "    .dataframe tbody tr th {\n",
       "        vertical-align: top;\n",
       "    }\n",
       "\n",
       "    .dataframe thead th {\n",
       "        text-align: right;\n",
       "    }\n",
       "</style>\n",
       "<table border=\"1\" class=\"dataframe\">\n",
       "  <thead>\n",
       "    <tr style=\"text-align: right;\">\n",
       "      <th></th>\n",
       "      <th>product_id</th>\n",
       "      <th>product_name</th>\n",
       "      <th>aisle_id</th>\n",
       "      <th>department_id</th>\n",
       "    </tr>\n",
       "  </thead>\n",
       "  <tbody>\n",
       "    <tr>\n",
       "      <th>0</th>\n",
       "      <td>1</td>\n",
       "      <td>Chocolate Sandwich Cookies</td>\n",
       "      <td>61</td>\n",
       "      <td>19</td>\n",
       "    </tr>\n",
       "    <tr>\n",
       "      <th>1</th>\n",
       "      <td>2</td>\n",
       "      <td>All-Seasons Salt</td>\n",
       "      <td>104</td>\n",
       "      <td>13</td>\n",
       "    </tr>\n",
       "    <tr>\n",
       "      <th>2</th>\n",
       "      <td>3</td>\n",
       "      <td>Robust Golden Unsweetened Oolong Tea</td>\n",
       "      <td>94</td>\n",
       "      <td>7</td>\n",
       "    </tr>\n",
       "    <tr>\n",
       "      <th>3</th>\n",
       "      <td>4</td>\n",
       "      <td>Smart Ones Classic Favorites Mini Rigatoni Wit...</td>\n",
       "      <td>38</td>\n",
       "      <td>1</td>\n",
       "    </tr>\n",
       "    <tr>\n",
       "      <th>4</th>\n",
       "      <td>5</td>\n",
       "      <td>Green Chile Anytime Sauce</td>\n",
       "      <td>5</td>\n",
       "      <td>13</td>\n",
       "    </tr>\n",
       "  </tbody>\n",
       "</table>\n",
       "</div>"
      ],
      "text/plain": [
       "   product_id                                       product_name  aisle_id  \\\n",
       "0           1                         Chocolate Sandwich Cookies        61   \n",
       "1           2                                   All-Seasons Salt       104   \n",
       "2           3               Robust Golden Unsweetened Oolong Tea        94   \n",
       "3           4  Smart Ones Classic Favorites Mini Rigatoni Wit...        38   \n",
       "4           5                          Green Chile Anytime Sauce         5   \n",
       "\n",
       "   department_id  \n",
       "0             19  \n",
       "1             13  \n",
       "2              7  \n",
       "3              1  \n",
       "4             13  "
      ]
     },
     "execution_count": 29,
     "metadata": {},
     "output_type": "execute_result"
    }
   ],
   "source": [
    "df_products.head()"
   ]
  },
  {
   "cell_type": "code",
   "execution_count": 30,
   "metadata": {},
   "outputs": [
    {
     "data": {
      "text/html": [
       "<div>\n",
       "<style scoped>\n",
       "    .dataframe tbody tr th:only-of-type {\n",
       "        vertical-align: middle;\n",
       "    }\n",
       "\n",
       "    .dataframe tbody tr th {\n",
       "        vertical-align: top;\n",
       "    }\n",
       "\n",
       "    .dataframe thead th {\n",
       "        text-align: right;\n",
       "    }\n",
       "</style>\n",
       "<table border=\"1\" class=\"dataframe\">\n",
       "  <thead>\n",
       "    <tr style=\"text-align: right;\">\n",
       "      <th></th>\n",
       "      <th>product_id</th>\n",
       "      <th>user_id</th>\n",
       "      <th>user_product_total_orders</th>\n",
       "      <th>latest_cart</th>\n",
       "      <th>in_cart</th>\n",
       "      <th>product_total_orders</th>\n",
       "      <th>product_avg_add_to_cart_order</th>\n",
       "      <th>user_total_orders</th>\n",
       "      <th>user_avg_cartsize</th>\n",
       "      <th>user_total_products</th>\n",
       "      <th>user_avg_since_prior_order</th>\n",
       "      <th>user_product_avg_add_to_cart_order</th>\n",
       "      <th>user_product_order_freq</th>\n",
       "    </tr>\n",
       "  </thead>\n",
       "  <tbody>\n",
       "    <tr>\n",
       "      <th>0</th>\n",
       "      <td>1</td>\n",
       "      <td>21285</td>\n",
       "      <td>1</td>\n",
       "      <td>{21573, 35561, 37710, 11759, 12341, 13176, 32478}</td>\n",
       "      <td>0</td>\n",
       "      <td>26</td>\n",
       "      <td>4.576923</td>\n",
       "      <td>48</td>\n",
       "      <td>6.604167</td>\n",
       "      <td>46</td>\n",
       "      <td>8.044872</td>\n",
       "      <td>3.0</td>\n",
       "      <td>0.020833</td>\n",
       "    </tr>\n",
       "  </tbody>\n",
       "</table>\n",
       "</div>"
      ],
      "text/plain": [
       "   product_id  user_id  user_product_total_orders  \\\n",
       "0           1    21285                          1   \n",
       "\n",
       "                                         latest_cart  in_cart  \\\n",
       "0  {21573, 35561, 37710, 11759, 12341, 13176, 32478}        0   \n",
       "\n",
       "   product_total_orders  product_avg_add_to_cart_order  user_total_orders  \\\n",
       "0                    26                       4.576923                 48   \n",
       "\n",
       "   user_avg_cartsize  user_total_products  user_avg_since_prior_order  \\\n",
       "0           6.604167                   46                    8.044872   \n",
       "\n",
       "   user_product_avg_add_to_cart_order  user_product_order_freq  \n",
       "0                                 3.0                 0.020833  "
      ]
     },
     "execution_count": 30,
     "metadata": {},
     "output_type": "execute_result"
    }
   ],
   "source": [
    "df_X.head(1)"
   ]
  },
  {
   "cell_type": "code",
   "execution_count": 31,
   "metadata": {},
   "outputs": [],
   "source": [
    "df_X = df_X.merge(df_products, on=\"product_id\").drop([\"product_name\"], axis=1)"
   ]
  },
  {
   "cell_type": "code",
   "execution_count": 32,
   "metadata": {},
   "outputs": [
    {
     "data": {
      "text/html": [
       "<div>\n",
       "<style scoped>\n",
       "    .dataframe tbody tr th:only-of-type {\n",
       "        vertical-align: middle;\n",
       "    }\n",
       "\n",
       "    .dataframe tbody tr th {\n",
       "        vertical-align: top;\n",
       "    }\n",
       "\n",
       "    .dataframe thead th {\n",
       "        text-align: right;\n",
       "    }\n",
       "</style>\n",
       "<table border=\"1\" class=\"dataframe\">\n",
       "  <thead>\n",
       "    <tr style=\"text-align: right;\">\n",
       "      <th></th>\n",
       "      <th>product_id</th>\n",
       "      <th>user_id</th>\n",
       "      <th>user_product_total_orders</th>\n",
       "      <th>latest_cart</th>\n",
       "      <th>in_cart</th>\n",
       "      <th>product_total_orders</th>\n",
       "      <th>product_avg_add_to_cart_order</th>\n",
       "      <th>user_total_orders</th>\n",
       "      <th>user_avg_cartsize</th>\n",
       "      <th>user_total_products</th>\n",
       "      <th>user_avg_since_prior_order</th>\n",
       "      <th>user_product_avg_add_to_cart_order</th>\n",
       "      <th>user_product_order_freq</th>\n",
       "      <th>aisle_id</th>\n",
       "      <th>department_id</th>\n",
       "    </tr>\n",
       "  </thead>\n",
       "  <tbody>\n",
       "    <tr>\n",
       "      <th>0</th>\n",
       "      <td>1</td>\n",
       "      <td>21285</td>\n",
       "      <td>1</td>\n",
       "      <td>{21573, 35561, 37710, 11759, 12341, 13176, 32478}</td>\n",
       "      <td>0</td>\n",
       "      <td>26</td>\n",
       "      <td>4.576923</td>\n",
       "      <td>48</td>\n",
       "      <td>6.604167</td>\n",
       "      <td>46</td>\n",
       "      <td>8.044872</td>\n",
       "      <td>3.0</td>\n",
       "      <td>0.020833</td>\n",
       "      <td>61</td>\n",
       "      <td>19</td>\n",
       "    </tr>\n",
       "  </tbody>\n",
       "</table>\n",
       "</div>"
      ],
      "text/plain": [
       "   product_id  user_id  user_product_total_orders  \\\n",
       "0           1    21285                          1   \n",
       "\n",
       "                                         latest_cart  in_cart  \\\n",
       "0  {21573, 35561, 37710, 11759, 12341, 13176, 32478}        0   \n",
       "\n",
       "   product_total_orders  product_avg_add_to_cart_order  user_total_orders  \\\n",
       "0                    26                       4.576923                 48   \n",
       "\n",
       "   user_avg_cartsize  user_total_products  user_avg_since_prior_order  \\\n",
       "0           6.604167                   46                    8.044872   \n",
       "\n",
       "   user_product_avg_add_to_cart_order  user_product_order_freq  aisle_id  \\\n",
       "0                                 3.0                 0.020833        61   \n",
       "\n",
       "   department_id  \n",
       "0             19  "
      ]
     },
     "execution_count": 32,
     "metadata": {},
     "output_type": "execute_result"
    }
   ],
   "source": [
    "df_X.head(1)"
   ]
  },
  {
   "cell_type": "code",
   "execution_count": 33,
   "metadata": {},
   "outputs": [],
   "source": [
    "X_train, X_test, y_train, y_test  = get_user_split_data(df_X)"
   ]
  },
  {
   "cell_type": "code",
   "execution_count": 34,
   "metadata": {},
   "outputs": [
    {
     "name": "stdout",
     "output_type": "stream",
     "text": [
      "The score for KNN is\n",
      "Training:  91.02%\n",
      "Test set:  89.89%\n"
     ]
    }
   ],
   "source": [
    "knn = KNeighborsClassifier(n_neighbors=5)\n",
    "knn.fit(X_train, y_train)\n",
    "print(\"The score for KNN is\")\n",
    "print(\"Training: {:6.2f}%\".format(100*knn.score(X_train, y_train)))\n",
    "print(\"Test set: {:6.2f}%\".format(100*knn.score(X_test, y_test)))"
   ]
  },
  {
   "cell_type": "code",
   "execution_count": 35,
   "metadata": {},
   "outputs": [
    {
     "name": "stdout",
     "output_type": "stream",
     "text": [
      "The score for logistic regression is\n",
      "Training:  90.29%\n",
      "Test set:  90.65%\n"
     ]
    },
    {
     "name": "stderr",
     "output_type": "stream",
     "text": [
      "C:\\Users\\ASUS\\anaconda3\\lib\\site-packages\\sklearn\\linear_model\\_logistic.py:764: ConvergenceWarning: lbfgs failed to converge (status=1):\n",
      "STOP: TOTAL NO. of ITERATIONS REACHED LIMIT.\n",
      "\n",
      "Increase the number of iterations (max_iter) or scale the data as shown in:\n",
      "    https://scikit-learn.org/stable/modules/preprocessing.html\n",
      "Please also refer to the documentation for alternative solver options:\n",
      "    https://scikit-learn.org/stable/modules/linear_model.html#logistic-regression\n",
      "  extra_warning_msg=_LOGISTIC_SOLVER_CONVERGENCE_MSG)\n"
     ]
    }
   ],
   "source": [
    "logit = LogisticRegression(C = 0.95)\n",
    "logit.fit(X_train, y_train)\n",
    "print(\"The score for logistic regression is\")\n",
    "print(\"Training: {:6.2f}%\".format(100*logit.score(X_train, y_train)))\n",
    "print(\"Test set: {:6.2f}%\".format(100*logit.score(X_test, y_test)))"
   ]
  },
  {
   "cell_type": "code",
   "execution_count": 36,
   "metadata": {},
   "outputs": [
    {
     "data": {
      "text/plain": [
       "array([[0.92303645, 0.07696355],\n",
       "       [0.9507141 , 0.0492859 ],\n",
       "       [0.69840151, 0.30159849],\n",
       "       [0.85894309, 0.14105691],\n",
       "       [0.9170724 , 0.0829276 ]])"
      ]
     },
     "execution_count": 36,
     "metadata": {},
     "output_type": "execute_result"
    }
   ],
   "source": [
    "logit.predict_proba(X_test[:5])"
   ]
  },
  {
   "cell_type": "code",
   "execution_count": 37,
   "metadata": {},
   "outputs": [
    {
     "name": "stdout",
     "output_type": "stream",
     "text": [
      "knn confusion matrix: \n",
      "\n",
      " [[60486   782]\n",
      " [ 6063   347]]\n"
     ]
    }
   ],
   "source": [
    "print(\"knn confusion matrix: \\n\\n\", confusion_matrix(y_test, knn.predict(X_test)))"
   ]
  },
  {
   "cell_type": "code",
   "execution_count": 38,
   "metadata": {},
   "outputs": [],
   "source": [
    "def make_confusion_matrix(model, threshold=0.5):\n",
    "    \n",
    "    y_predict = (model.predict_proba(X_test)[:,1] >= threshold)\n",
    "    mistake_confusion = confusion_matrix(y_test, y_predict)\n",
    "    plt.figure(dpi=80)\n",
    "    sns.heatmap(mistake_confusion, cmap=plt.cm.Blues, annot=True, square=True, fmt=\"d\",\n",
    "               xticklabels=[\"in_cart\", \"mistake\"],\n",
    "               yticklabels=[\"in_cart\", \"mistake\"]);\n",
    "    plt.xlabel(\"prediction\")\n",
    "    plt.ylabel(\"actual\")"
   ]
  },
  {
   "cell_type": "code",
   "execution_count": 39,
   "metadata": {
    "scrolled": true
   },
   "outputs": [
    {
     "data": {
      "image/png": "[encoded data removed]",
      "text/plain": [
       "<Figure size 480x320 with 2 Axes>"
      ]
     },
     "metadata": {
      "needs_background": "light"
     },
     "output_type": "display_data"
    }
   ],
   "source": [
    "make_confusion_matrix(logit)"
   ]
  },
  {
   "cell_type": "code",
   "execution_count": 40,
   "metadata": {},
   "outputs": [
    {
     "data": {
      "image/png": "[encoded data removed]",
      "text/plain": [
       "<Figure size 480x320 with 2 Axes>"
      ]
     },
     "metadata": {
      "needs_background": "light"
     },
     "output_type": "display_data"
    }
   ],
   "source": [
    "make_confusion_matrix(knn)"
   ]
  },
  {
   "cell_type": "code",
   "execution_count": 41,
   "metadata": {},
   "outputs": [
    {
     "data": {
      "application/vnd.jupyter.widget-view+json": {
       "model_id": "2d54146c34fd45668b841d93767bc709",
       "version_major": 2,
       "version_minor": 0
      },
      "text/plain": [
       "interactive(children=(FloatSlider(value=0.5, description='threshold', max=1.0, step=0.02), Output()), _dom_cla…"
      ]
     },
     "metadata": {},
     "output_type": "display_data"
    }
   ],
   "source": [
    "\n",
    "\n",
    "interactive(lambda threshold: make_confusion_matrix(logit, threshold), threshold=(0.0,1.0,0.02))"
   ]
  },
  {
   "cell_type": "code",
   "execution_count": 42,
   "metadata": {},
   "outputs": [
    {
     "name": "stdout",
     "output_type": "stream",
     "text": [
      "Default threshold:\n",
      "Precision: 0.5448,   Recall: 0.0749\n"
     ]
    }
   ],
   "source": [
    "y_predict = logit.predict(X_test)\n",
    "print(\"Default threshold:\")\n",
    "print(\"Precision: {:6.4f},   Recall: {:6.4f}\".format(precision_score(y_test, y_predict),\n",
    "                                                    recall_score(y_test, y_predict)))"
   ]
  },
  {
   "cell_type": "code",
   "execution_count": 43,
   "metadata": {},
   "outputs": [
    {
     "name": "stdout",
     "output_type": "stream",
     "text": [
      "Threshold of 0.06:\n",
      "Precision: 0.1369,   Recall: 0.8591\n"
     ]
    }
   ],
   "source": [
    "y_predict = (logit.predict_proba(X_test)[:,1] > 0.06)\n",
    "print(\"Threshold of 0.06:\")\n",
    "print(\"Precision: {:6.4f},   Recall: {:6.4f}\".format(precision_score(y_test, y_predict),\n",
    "                                                    recall_score(y_test, y_predict)))"
   ]
  },
  {
   "cell_type": "code",
   "execution_count": 44,
   "metadata": {},
   "outputs": [
    {
     "data": {
      "image/png": "[encoded data removed]",
      "text/plain": [
       "<Figure size 480x320 with 1 Axes>"
      ]
     },
     "metadata": {
      "needs_background": "light"
     },
     "output_type": "display_data"
    }
   ],
   "source": [
    "precision_curve, recall_curve, threshold_curve = precision_recall_curve(y_test, logit.predict_proba(X_test)[:,1])\n",
    "\n",
    "plt.figure(dpi=80)\n",
    "plt.plot(threshold_curve, precision_curve[1:], label=\"precision\")\n",
    "plt.plot(threshold_curve, recall_curve[1:], label=\"recall\")\n",
    "plt.legend(loc=\"lower left\")\n",
    "plt.xlabel(\"Threshold (above this probability, label as mistake)\");\n",
    "plt.title(\"Precision and Recall Curves\");"
   ]
  },
  {
   "cell_type": "code",
   "execution_count": 45,
   "metadata": {},
   "outputs": [
    {
     "data": {
      "image/png": "[encoded data removed]",
      "text/plain": [
       "<Figure size 480x320 with 1 Axes>"
      ]
     },
     "metadata": {
      "needs_background": "light"
     },
     "output_type": "display_data"
    }
   ],
   "source": [
    "plt.figure(dpi=80)\n",
    "plt.plot(recall_curve[1:], precision_curve[1:], label=\"precision\")\n",
    "plt.xlabel(\"Recall\")\n",
    "plt.ylabel(\"Precision\")\n",
    "plt.title(\"Precisionn-Recall Curve\");"
   ]
  },
  {
   "cell_type": "code",
   "execution_count": 46,
   "metadata": {},
   "outputs": [],
   "source": [
    "fpr, tpr, thresholds = roc_curve(y_test, logit.predict_proba(X_test)[:,1])"
   ]
  },
  {
   "cell_type": "code",
   "execution_count": 47,
   "metadata": {},
   "outputs": [
    {
     "name": "stdout",
     "output_type": "stream",
     "text": [
      "ROC AUC score =  0.7490832392648059\n"
     ]
    },
    {
     "data": {
      "image/png": "[encoded data removed]",
      "text/plain": [
       "<Figure size 432x288 with 1 Axes>"
      ]
     },
     "metadata": {
      "needs_background": "light"
     },
     "output_type": "display_data"
    }
   ],
   "source": [
    "plt.plot(fpr, tpr, lw=2)\n",
    "plt.plot([0,1],[0,1],c=\"violet\",ls=\"--\")\n",
    "plt.xlim([-0.05,1.05])\n",
    "plt.ylim([-0.05,1.05])\n",
    "\n",
    "plt.xlabel(\"False positive rate\")\n",
    "plt.ylabel(\"True positive rate\")\n",
    "plt.title(\"ROC curve for fraud problem\");\n",
    "print(\"ROC AUC score = \", roc_auc_score(y_test, logit.predict_proba(X_test)[:,1]))"
   ]
  },
  {
   "cell_type": "code",
   "execution_count": 48,
   "metadata": {},
   "outputs": [
    {
     "name": "stdout",
     "output_type": "stream",
     "text": [
      "Log-loss on logit: 0.2778\n"
     ]
    }
   ],
   "source": [
    "print(\"Log-loss on logit: {:6.4f}\".format(log_loss(y_test, logit.predict_proba(X_test))))"
   ]
  },
  {
   "cell_type": "code",
   "execution_count": 49,
   "metadata": {},
   "outputs": [
    {
     "name": "stdout",
     "output_type": "stream",
     "text": [
      "Log-loss on dummy classifier: 6.0322\n"
     ]
    },
    {
     "name": "stderr",
     "output_type": "stream",
     "text": [
      "C:\\Users\\ASUS\\anaconda3\\lib\\site-packages\\sklearn\\dummy.py:132: FutureWarning: The default value of strategy will change from stratified to prior in 0.24.\n",
      "  \"stratified to prior in 0.24.\", FutureWarning)\n"
     ]
    }
   ],
   "source": [
    "dc = DummyClassifier()\n",
    "dc.fit(X_train, y_train)\n",
    "print(\"Log-loss on dummy classifier: {:6.4f}\".format(log_loss(y_test, dc.predict_proba(X_test))))"
   ]
  },
  {
   "cell_type": "code",
   "execution_count": 50,
   "metadata": {},
   "outputs": [
    {
     "name": "stdout",
     "output_type": "stream",
     "text": [
      "Logistic accuracy:0.9065\n",
      "Dummy accuracy: 0.8261\n"
     ]
    }
   ],
   "source": [
    "print(\"Logistic accuracy:{:6.4f}\".format(logit.score(X_test, y_test)))\n",
    "print(\"Dummy accuracy: {:6.4f}\".format(dc.score(X_test, y_test)))"
   ]
  },
  {
   "cell_type": "code",
   "execution_count": 51,
   "metadata": {},
   "outputs": [
    {
     "data": {
      "text/plain": [
       "0.8817636454977984"
      ]
     },
     "execution_count": 51,
     "metadata": {},
     "output_type": "execute_result"
    }
   ],
   "source": [
    "naiveb = GaussianNB()\n",
    "naiveb.fit(X_train, y_train)\n",
    "naiveb.score(X_test, y_test)"
   ]
  },
  {
   "cell_type": "code",
   "execution_count": 52,
   "metadata": {},
   "outputs": [
    {
     "data": {
      "text/plain": [
       "array([[   2.12005978,  485.86526615,    9.00117008,   25.31323164,\n",
       "          12.76180191,  116.97156211,   13.01985654,    9.45512186,\n",
       "           0.13492077,   71.07632124,   10.28711383],\n",
       "       [   4.94118555, 1071.09907825,    8.18556389,   18.53044853,\n",
       "          13.79737132,   90.70592773,   14.61103459,    8.30403447,\n",
       "           0.33514356,   71.22299356,    9.59342821]])"
      ]
     },
     "execution_count": 52,
     "metadata": {},
     "output_type": "execute_result"
    }
   ],
   "source": [
    "naiveb.theta_  # mean of each feature by class"
   ]
  },
  {
   "cell_type": "code",
   "execution_count": 53,
   "metadata": {},
   "outputs": [
    {
     "data": {
      "text/plain": [
       "array([[   2.78335649, 1186.87702868,    2.76929147,   21.77091976,\n",
       "           6.16665938,   78.12471356,    6.35635428,    7.14354881,\n",
       "           0.14392837,   38.07126858,    6.19233057],\n",
       "       [   6.38107152, 2156.02298531,    2.37856851,   18.04110159,\n",
       "           6.88053633,   65.84686454,    6.69018783,    6.1565552 ,\n",
       "           0.2573366 ,   38.20453503,    6.27462805]])"
      ]
     },
     "execution_count": 53,
     "metadata": {},
     "output_type": "execute_result"
    }
   ],
   "source": [
    "np.sqrt(naiveb.sigma_) # variance of each feature by class"
   ]
  },
  {
   "cell_type": "code",
   "execution_count": 54,
   "metadata": {},
   "outputs": [
    {
     "name": "stderr",
     "output_type": "stream",
     "text": [
      "C:\\Users\\ASUS\\anaconda3\\lib\\site-packages\\sklearn\\model_selection\\_split.py:297: FutureWarning: Setting a random_state has no effect since shuffle is False. This will raise an error in 0.24. You should leave random_state to its default (None), or set shuffle=True.\n",
      "  FutureWarning\n"
     ]
    }
   ],
   "source": [
    "kfold = model_selection.KFold(n_splits=10, random_state=7)\n"
   ]
  },
  {
   "cell_type": "code",
   "execution_count": 55,
   "metadata": {},
   "outputs": [
    {
     "name": "stdout",
     "output_type": "stream",
     "text": [
      "0.9010828567098791\n"
     ]
    }
   ],
   "source": [
    "nbayes = BernoulliNB()\n",
    "results_nbayes=model_selection.cross_val_score(nbayes, X_train, y_train, cv = kfold)\n",
    "acc_bernoulli = results_nbayes.mean()\n",
    "print(acc_bernoulli)"
   ]
  },
  {
   "cell_type": "code",
   "execution_count": 56,
   "metadata": {},
   "outputs": [
    {
     "data": {
      "text/html": [
       "<div>\n",
       "<style scoped>\n",
       "    .dataframe tbody tr th:only-of-type {\n",
       "        vertical-align: middle;\n",
       "    }\n",
       "\n",
       "    .dataframe tbody tr th {\n",
       "        vertical-align: top;\n",
       "    }\n",
       "\n",
       "    .dataframe thead th {\n",
       "        text-align: right;\n",
       "    }\n",
       "</style>\n",
       "<table border=\"1\" class=\"dataframe\">\n",
       "  <thead>\n",
       "    <tr style=\"text-align: right;\">\n",
       "      <th></th>\n",
       "      <th>product_id</th>\n",
       "      <th>user_id</th>\n",
       "      <th>user_product_total_orders</th>\n",
       "      <th>in_cart</th>\n",
       "      <th>product_total_orders</th>\n",
       "      <th>product_avg_add_to_cart_order</th>\n",
       "      <th>user_total_orders</th>\n",
       "      <th>user_avg_cartsize</th>\n",
       "      <th>user_total_products</th>\n",
       "      <th>user_avg_since_prior_order</th>\n",
       "      <th>user_product_avg_add_to_cart_order</th>\n",
       "      <th>user_product_order_freq</th>\n",
       "      <th>aisle_id</th>\n",
       "      <th>department_id</th>\n",
       "    </tr>\n",
       "  </thead>\n",
       "  <tbody>\n",
       "    <tr>\n",
       "      <th>count</th>\n",
       "      <td>329806.000000</td>\n",
       "      <td>329806.000000</td>\n",
       "      <td>329806.000000</td>\n",
       "      <td>329806.000000</td>\n",
       "      <td>329806.000000</td>\n",
       "      <td>329806.000000</td>\n",
       "      <td>329806.000000</td>\n",
       "      <td>329806.000000</td>\n",
       "      <td>329806.000000</td>\n",
       "      <td>329806.000000</td>\n",
       "      <td>329806.000000</td>\n",
       "      <td>329806.000000</td>\n",
       "      <td>329806.000000</td>\n",
       "      <td>329806.000000</td>\n",
       "    </tr>\n",
       "    <tr>\n",
       "      <th>mean</th>\n",
       "      <td>25478.038332</td>\n",
       "      <td>102584.627005</td>\n",
       "      <td>2.407245</td>\n",
       "      <td>0.098055</td>\n",
       "      <td>544.889863</td>\n",
       "      <td>8.922973</td>\n",
       "      <td>24.931824</td>\n",
       "      <td>12.889714</td>\n",
       "      <td>116.188844</td>\n",
       "      <td>13.134957</td>\n",
       "      <td>9.337801</td>\n",
       "      <td>0.153016</td>\n",
       "      <td>71.065014</td>\n",
       "      <td>10.222197</td>\n",
       "    </tr>\n",
       "    <tr>\n",
       "      <th>std</th>\n",
       "      <td>14236.306598</td>\n",
       "      <td>59451.330080</td>\n",
       "      <td>3.442570</td>\n",
       "      <td>0.297389</td>\n",
       "      <td>1328.212503</td>\n",
       "      <td>2.746800</td>\n",
       "      <td>21.717598</td>\n",
       "      <td>6.460288</td>\n",
       "      <td>82.273021</td>\n",
       "      <td>6.429939</td>\n",
       "      <td>7.112959</td>\n",
       "      <td>0.163067</td>\n",
       "      <td>38.075157</td>\n",
       "      <td>6.204519</td>\n",
       "    </tr>\n",
       "    <tr>\n",
       "      <th>min</th>\n",
       "      <td>1.000000</td>\n",
       "      <td>50.000000</td>\n",
       "      <td>1.000000</td>\n",
       "      <td>0.000000</td>\n",
       "      <td>1.000000</td>\n",
       "      <td>1.000000</td>\n",
       "      <td>3.000000</td>\n",
       "      <td>1.000000</td>\n",
       "      <td>1.000000</td>\n",
       "      <td>0.948276</td>\n",
       "      <td>1.000000</td>\n",
       "      <td>0.010101</td>\n",
       "      <td>1.000000</td>\n",
       "      <td>1.000000</td>\n",
       "    </tr>\n",
       "    <tr>\n",
       "      <th>25%</th>\n",
       "      <td>13249.000000</td>\n",
       "      <td>50828.000000</td>\n",
       "      <td>1.000000</td>\n",
       "      <td>0.000000</td>\n",
       "      <td>27.000000</td>\n",
       "      <td>7.470236</td>\n",
       "      <td>9.000000</td>\n",
       "      <td>8.433333</td>\n",
       "      <td>56.000000</td>\n",
       "      <td>8.111111</td>\n",
       "      <td>4.000000</td>\n",
       "      <td>0.045455</td>\n",
       "      <td>32.000000</td>\n",
       "      <td>4.000000</td>\n",
       "    </tr>\n",
       "    <tr>\n",
       "      <th>50%</th>\n",
       "      <td>25555.500000</td>\n",
       "      <td>103434.000000</td>\n",
       "      <td>1.000000</td>\n",
       "      <td>0.000000</td>\n",
       "      <td>106.000000</td>\n",
       "      <td>8.847826</td>\n",
       "      <td>18.000000</td>\n",
       "      <td>11.826667</td>\n",
       "      <td>96.000000</td>\n",
       "      <td>11.978142</td>\n",
       "      <td>7.666667</td>\n",
       "      <td>0.093750</td>\n",
       "      <td>81.000000</td>\n",
       "      <td>11.000000</td>\n",
       "    </tr>\n",
       "    <tr>\n",
       "      <th>75%</th>\n",
       "      <td>38100.000000</td>\n",
       "      <td>154426.000000</td>\n",
       "      <td>2.000000</td>\n",
       "      <td>0.000000</td>\n",
       "      <td>395.000000</td>\n",
       "      <td>10.011561</td>\n",
       "      <td>34.000000</td>\n",
       "      <td>16.000000</td>\n",
       "      <td>154.000000</td>\n",
       "      <td>17.466102</td>\n",
       "      <td>12.333333</td>\n",
       "      <td>0.200000</td>\n",
       "      <td>106.000000</td>\n",
       "      <td>16.000000</td>\n",
       "    </tr>\n",
       "    <tr>\n",
       "      <th>max</th>\n",
       "      <td>49683.000000</td>\n",
       "      <td>206175.000000</td>\n",
       "      <td>86.000000</td>\n",
       "      <td>1.000000</td>\n",
       "      <td>10951.000000</td>\n",
       "      <td>75.000000</td>\n",
       "      <td>99.000000</td>\n",
       "      <td>51.357143</td>\n",
       "      <td>689.000000</td>\n",
       "      <td>30.000000</td>\n",
       "      <td>91.000000</td>\n",
       "      <td>1.000000</td>\n",
       "      <td>134.000000</td>\n",
       "      <td>21.000000</td>\n",
       "    </tr>\n",
       "  </tbody>\n",
       "</table>\n",
       "</div>"
      ],
      "text/plain": [
       "          product_id        user_id  user_product_total_orders        in_cart  \\\n",
       "count  329806.000000  329806.000000              329806.000000  329806.000000   \n",
       "mean    25478.038332  102584.627005                   2.407245       0.098055   \n",
       "std     14236.306598   59451.330080                   3.442570       0.297389   \n",
       "min         1.000000      50.000000                   1.000000       0.000000   \n",
       "25%     13249.000000   50828.000000                   1.000000       0.000000   \n",
       "50%     25555.500000  103434.000000                   1.000000       0.000000   \n",
       "75%     38100.000000  154426.000000                   2.000000       0.000000   \n",
       "max     49683.000000  206175.000000                  86.000000       1.000000   \n",
       "\n",
       "       product_total_orders  product_avg_add_to_cart_order  user_total_orders  \\\n",
       "count         329806.000000                  329806.000000      329806.000000   \n",
       "mean             544.889863                       8.922973          24.931824   \n",
       "std             1328.212503                       2.746800          21.717598   \n",
       "min                1.000000                       1.000000           3.000000   \n",
       "25%               27.000000                       7.470236           9.000000   \n",
       "50%              106.000000                       8.847826          18.000000   \n",
       "75%              395.000000                      10.011561          34.000000   \n",
       "max            10951.000000                      75.000000          99.000000   \n",
       "\n",
       "       user_avg_cartsize  user_total_products  user_avg_since_prior_order  \\\n",
       "count      329806.000000        329806.000000               329806.000000   \n",
       "mean           12.889714           116.188844                   13.134957   \n",
       "std             6.460288            82.273021                    6.429939   \n",
       "min             1.000000             1.000000                    0.948276   \n",
       "25%             8.433333            56.000000                    8.111111   \n",
       "50%            11.826667            96.000000                   11.978142   \n",
       "75%            16.000000           154.000000                   17.466102   \n",
       "max            51.357143           689.000000                   30.000000   \n",
       "\n",
       "       user_product_avg_add_to_cart_order  user_product_order_freq  \\\n",
       "count                       329806.000000            329806.000000   \n",
       "mean                             9.337801                 0.153016   \n",
       "std                              7.112959                 0.163067   \n",
       "min                              1.000000                 0.010101   \n",
       "25%                              4.000000                 0.045455   \n",
       "50%                              7.666667                 0.093750   \n",
       "75%                             12.333333                 0.200000   \n",
       "max                             91.000000                 1.000000   \n",
       "\n",
       "            aisle_id  department_id  \n",
       "count  329806.000000  329806.000000  \n",
       "mean       71.065014      10.222197  \n",
       "std        38.075157       6.204519  \n",
       "min         1.000000       1.000000  \n",
       "25%        32.000000       4.000000  \n",
       "50%        81.000000      11.000000  \n",
       "75%       106.000000      16.000000  \n",
       "max       134.000000      21.000000  "
      ]
     },
     "execution_count": 56,
     "metadata": {},
     "output_type": "execute_result"
    }
   ],
   "source": [
    "df_X.describe()"
   ]
  },
  {
   "cell_type": "code",
   "execution_count": 57,
   "metadata": {},
   "outputs": [],
   "source": [
    "gb = GradientBoostingClassifier(n_estimators=100,random_state=7)\n",
    "results=model_selection.cross_val_score(gb, X_train, y_train, cv = kfold)\n",
    "acc_gradiant = results.mean()"
   ]
  },
  {
   "cell_type": "code",
   "execution_count": 59,
   "metadata": {},
   "outputs": [
    {
     "name": "stdout",
     "output_type": "stream",
     "text": [
      "0.91 %\n"
     ]
    }
   ],
   "source": [
    "print(round(acc_gradiant,2,),\"%\")"
   ]
  },
  {
   "cell_type": "code",
   "execution_count": null,
   "metadata": {},
   "outputs": [],
   "source": [
    "#print(\"Accuracy:\", metrics.accuracy_score(y_test, results_nbayes))\n",
    "#print(\"Precission:\", metrics.precision_score(y_test, results_nbayes))\n",
    "#print(\"Recall:\", metrics.recall_score(y_test, results_nbayes))"
   ]
  },
  {
   "cell_type": "code",
   "execution_count": 60,
   "metadata": {},
   "outputs": [
    {
     "data": {
      "text/plain": [
       "<matplotlib.axes._subplots.AxesSubplot at 0x1269a3f77c8>"
      ]
     },
     "execution_count": 60,
     "metadata": {},
     "output_type": "execute_result"
    },
    {
     "data": {
      "image/png": "[encoded data removed]",
      "text/plain": [
       "<Figure size 432x288 with 1 Axes>"
      ]
     },
     "metadata": {
      "needs_background": "light"
     },
     "output_type": "display_data"
    }
   ],
   "source": [
    "sns.barplot(x=\"in_cart\", y=\"user_id\", data=df_X)"
   ]
  },
  {
   "cell_type": "code",
   "execution_count": 61,
   "metadata": {},
   "outputs": [
    {
     "name": "stderr",
     "output_type": "stream",
     "text": [
      "C:\\Users\\ASUS\\anaconda3\\lib\\site-packages\\sklearn\\linear_model\\_logistic.py:764: ConvergenceWarning: lbfgs failed to converge (status=1):\n",
      "STOP: TOTAL NO. of ITERATIONS REACHED LIMIT.\n",
      "\n",
      "Increase the number of iterations (max_iter) or scale the data as shown in:\n",
      "    https://scikit-learn.org/stable/modules/preprocessing.html\n",
      "Please also refer to the documentation for alternative solver options:\n",
      "    https://scikit-learn.org/stable/modules/linear_model.html#logistic-regression\n",
      "  extra_warning_msg=_LOGISTIC_SOLVER_CONVERGENCE_MSG)\n",
      "C:\\Users\\ASUS\\anaconda3\\lib\\site-packages\\sklearn\\linear_model\\_logistic.py:764: ConvergenceWarning: lbfgs failed to converge (status=1):\n",
      "STOP: TOTAL NO. of ITERATIONS REACHED LIMIT.\n",
      "\n",
      "Increase the number of iterations (max_iter) or scale the data as shown in:\n",
      "    https://scikit-learn.org/stable/modules/preprocessing.html\n",
      "Please also refer to the documentation for alternative solver options:\n",
      "    https://scikit-learn.org/stable/modules/linear_model.html#logistic-regression\n",
      "  extra_warning_msg=_LOGISTIC_SOLVER_CONVERGENCE_MSG)\n",
      "C:\\Users\\ASUS\\anaconda3\\lib\\site-packages\\sklearn\\linear_model\\_logistic.py:764: ConvergenceWarning: lbfgs failed to converge (status=1):\n",
      "STOP: TOTAL NO. of ITERATIONS REACHED LIMIT.\n",
      "\n",
      "Increase the number of iterations (max_iter) or scale the data as shown in:\n",
      "    https://scikit-learn.org/stable/modules/preprocessing.html\n",
      "Please also refer to the documentation for alternative solver options:\n",
      "    https://scikit-learn.org/stable/modules/linear_model.html#logistic-regression\n",
      "  extra_warning_msg=_LOGISTIC_SOLVER_CONVERGENCE_MSG)\n",
      "C:\\Users\\ASUS\\anaconda3\\lib\\site-packages\\sklearn\\linear_model\\_logistic.py:764: ConvergenceWarning: lbfgs failed to converge (status=1):\n",
      "STOP: TOTAL NO. of ITERATIONS REACHED LIMIT.\n",
      "\n",
      "Increase the number of iterations (max_iter) or scale the data as shown in:\n",
      "    https://scikit-learn.org/stable/modules/preprocessing.html\n",
      "Please also refer to the documentation for alternative solver options:\n",
      "    https://scikit-learn.org/stable/modules/linear_model.html#logistic-regression\n",
      "  extra_warning_msg=_LOGISTIC_SOLVER_CONVERGENCE_MSG)\n",
      "C:\\Users\\ASUS\\anaconda3\\lib\\site-packages\\sklearn\\linear_model\\_logistic.py:764: ConvergenceWarning: lbfgs failed to converge (status=1):\n",
      "STOP: TOTAL NO. of ITERATIONS REACHED LIMIT.\n",
      "\n",
      "Increase the number of iterations (max_iter) or scale the data as shown in:\n",
      "    https://scikit-learn.org/stable/modules/preprocessing.html\n",
      "Please also refer to the documentation for alternative solver options:\n",
      "    https://scikit-learn.org/stable/modules/linear_model.html#logistic-regression\n",
      "  extra_warning_msg=_LOGISTIC_SOLVER_CONVERGENCE_MSG)\n",
      "C:\\Users\\ASUS\\anaconda3\\lib\\site-packages\\sklearn\\linear_model\\_logistic.py:764: ConvergenceWarning: lbfgs failed to converge (status=1):\n",
      "STOP: TOTAL NO. of ITERATIONS REACHED LIMIT.\n",
      "\n",
      "Increase the number of iterations (max_iter) or scale the data as shown in:\n",
      "    https://scikit-learn.org/stable/modules/preprocessing.html\n",
      "Please also refer to the documentation for alternative solver options:\n",
      "    https://scikit-learn.org/stable/modules/linear_model.html#logistic-regression\n",
      "  extra_warning_msg=_LOGISTIC_SOLVER_CONVERGENCE_MSG)\n",
      "C:\\Users\\ASUS\\anaconda3\\lib\\site-packages\\sklearn\\linear_model\\_logistic.py:764: ConvergenceWarning: lbfgs failed to converge (status=1):\n",
      "STOP: TOTAL NO. of ITERATIONS REACHED LIMIT.\n",
      "\n",
      "Increase the number of iterations (max_iter) or scale the data as shown in:\n",
      "    https://scikit-learn.org/stable/modules/preprocessing.html\n",
      "Please also refer to the documentation for alternative solver options:\n",
      "    https://scikit-learn.org/stable/modules/linear_model.html#logistic-regression\n",
      "  extra_warning_msg=_LOGISTIC_SOLVER_CONVERGENCE_MSG)\n",
      "C:\\Users\\ASUS\\anaconda3\\lib\\site-packages\\sklearn\\linear_model\\_logistic.py:764: ConvergenceWarning: lbfgs failed to converge (status=1):\n",
      "STOP: TOTAL NO. of ITERATIONS REACHED LIMIT.\n",
      "\n",
      "Increase the number of iterations (max_iter) or scale the data as shown in:\n",
      "    https://scikit-learn.org/stable/modules/preprocessing.html\n",
      "Please also refer to the documentation for alternative solver options:\n",
      "    https://scikit-learn.org/stable/modules/linear_model.html#logistic-regression\n",
      "  extra_warning_msg=_LOGISTIC_SOLVER_CONVERGENCE_MSG)\n",
      "C:\\Users\\ASUS\\anaconda3\\lib\\site-packages\\sklearn\\linear_model\\_logistic.py:764: ConvergenceWarning: lbfgs failed to converge (status=1):\n",
      "STOP: TOTAL NO. of ITERATIONS REACHED LIMIT.\n",
      "\n",
      "Increase the number of iterations (max_iter) or scale the data as shown in:\n",
      "    https://scikit-learn.org/stable/modules/preprocessing.html\n",
      "Please also refer to the documentation for alternative solver options:\n",
      "    https://scikit-learn.org/stable/modules/linear_model.html#logistic-regression\n",
      "  extra_warning_msg=_LOGISTIC_SOLVER_CONVERGENCE_MSG)\n"
     ]
    },
    {
     "name": "stdout",
     "output_type": "stream",
     "text": [
      "0.9 %\n"
     ]
    },
    {
     "name": "stderr",
     "output_type": "stream",
     "text": [
      "C:\\Users\\ASUS\\anaconda3\\lib\\site-packages\\sklearn\\linear_model\\_logistic.py:764: ConvergenceWarning: lbfgs failed to converge (status=1):\n",
      "STOP: TOTAL NO. of ITERATIONS REACHED LIMIT.\n",
      "\n",
      "Increase the number of iterations (max_iter) or scale the data as shown in:\n",
      "    https://scikit-learn.org/stable/modules/preprocessing.html\n",
      "Please also refer to the documentation for alternative solver options:\n",
      "    https://scikit-learn.org/stable/modules/linear_model.html#logistic-regression\n",
      "  extra_warning_msg=_LOGISTIC_SOLVER_CONVERGENCE_MSG)\n"
     ]
    }
   ],
   "source": [
    "logreg = LogisticRegression()\n",
    "results_logreg = model_selection.cross_val_score(logreg, X_train, y_train, cv=kfold)\n",
    "acc_log = results_logreg.mean()\n",
    "print(round(acc_log,2,),\"%\")"
   ]
  },
  {
   "cell_type": "code",
   "execution_count": 62,
   "metadata": {},
   "outputs": [
    {
     "name": "stdout",
     "output_type": "stream",
     "text": [
      "0.8 %\n"
     ]
    }
   ],
   "source": [
    "knn = KNeighborsClassifier(n_neighbors = 3)\n",
    "results_knn = model_selection.cross_val_score(knn, X_train, y_train)\n",
    "acc_knn = results_knn.mean()\n",
    "print(round(acc_knn,2,),\"%\")"
   ]
  },
  {
   "cell_type": "code",
   "execution_count": 63,
   "metadata": {},
   "outputs": [],
   "source": [
    "gaussian = GaussianNB()\n",
    "results_gaussian = model_selection.cross_val_score(gaussian, X_train, y_train, cv=kfold)\n",
    "acc_gaussian = results_gaussian.mean()"
   ]
  },
  {
   "cell_type": "code",
   "execution_count": 64,
   "metadata": {},
   "outputs": [
    {
     "name": "stderr",
     "output_type": "stream",
     "text": [
      "C:\\Users\\ASUS\\anaconda3\\lib\\site-packages\\sklearn\\svm\\_base.py:977: ConvergenceWarning: Liblinear failed to converge, increase the number of iterations.\n",
      "  \"the number of iterations.\", ConvergenceWarning)\n",
      "C:\\Users\\ASUS\\anaconda3\\lib\\site-packages\\sklearn\\svm\\_base.py:977: ConvergenceWarning: Liblinear failed to converge, increase the number of iterations.\n",
      "  \"the number of iterations.\", ConvergenceWarning)\n",
      "C:\\Users\\ASUS\\anaconda3\\lib\\site-packages\\sklearn\\svm\\_base.py:977: ConvergenceWarning: Liblinear failed to converge, increase the number of iterations.\n",
      "  \"the number of iterations.\", ConvergenceWarning)\n",
      "C:\\Users\\ASUS\\anaconda3\\lib\\site-packages\\sklearn\\svm\\_base.py:977: ConvergenceWarning: Liblinear failed to converge, increase the number of iterations.\n",
      "  \"the number of iterations.\", ConvergenceWarning)\n",
      "C:\\Users\\ASUS\\anaconda3\\lib\\site-packages\\sklearn\\svm\\_base.py:977: ConvergenceWarning: Liblinear failed to converge, increase the number of iterations.\n",
      "  \"the number of iterations.\", ConvergenceWarning)\n",
      "C:\\Users\\ASUS\\anaconda3\\lib\\site-packages\\sklearn\\svm\\_base.py:977: ConvergenceWarning: Liblinear failed to converge, increase the number of iterations.\n",
      "  \"the number of iterations.\", ConvergenceWarning)\n",
      "C:\\Users\\ASUS\\anaconda3\\lib\\site-packages\\sklearn\\svm\\_base.py:977: ConvergenceWarning: Liblinear failed to converge, increase the number of iterations.\n",
      "  \"the number of iterations.\", ConvergenceWarning)\n",
      "C:\\Users\\ASUS\\anaconda3\\lib\\site-packages\\sklearn\\svm\\_base.py:977: ConvergenceWarning: Liblinear failed to converge, increase the number of iterations.\n",
      "  \"the number of iterations.\", ConvergenceWarning)\n",
      "C:\\Users\\ASUS\\anaconda3\\lib\\site-packages\\sklearn\\svm\\_base.py:977: ConvergenceWarning: Liblinear failed to converge, increase the number of iterations.\n",
      "  \"the number of iterations.\", ConvergenceWarning)\n",
      "C:\\Users\\ASUS\\anaconda3\\lib\\site-packages\\sklearn\\svm\\_base.py:977: ConvergenceWarning: Liblinear failed to converge, increase the number of iterations.\n",
      "  \"the number of iterations.\", ConvergenceWarning)\n"
     ]
    }
   ],
   "source": [
    "linear_svc = LinearSVC()\n",
    "results_svc = model_selection.cross_val_score(linear_svc, X_train, y_train, cv=kfold)\n",
    "acc_linear_svc = results_svc.mean()"
   ]
  },
  {
   "cell_type": "code",
   "execution_count": 65,
   "metadata": {},
   "outputs": [],
   "source": [
    "ada = AdaBoostClassifier(n_estimators=100, random_state=10)\n",
    "results_ada = model_selection.cross_val_score(ada, X_train, y_train, cv=kfold)\n",
    "acc_ada= results_ada.mean()"
   ]
  },
  {
   "cell_type": "code",
   "execution_count": 66,
   "metadata": {},
   "outputs": [],
   "source": [
    "decision_tree = DecisionTreeClassifier() \n",
    "results_decision = model_selection.cross_val_score(decision_tree, X_train, y_train, cv=kfold)\n",
    "acc_decision_tree = results_decision.mean()"
   ]
  },
  {
   "cell_type": "code",
   "execution_count": 67,
   "metadata": {},
   "outputs": [],
   "source": [
    "results = pd.DataFrame({\n",
    "    \"Model\": [\"Support Vector Machines\",\"BernoulliNB\", \"Gradient Boosting Classifier\", \"Logistic Regression\",\n",
    "              \"KNN\", \"GaussianNB\",\"Ada Boosting Classifier\",\"Decision Tree\"],\n",
    "    \"Score\": [acc_linear_svc,acc_bernoulli, acc_gradiant, acc_log, acc_knn, acc_gaussian,acc_ada,acc_decision_tree]\n",
    "})"
   ]
  },
  {
   "cell_type": "code",
   "execution_count": 69,
   "metadata": {},
   "outputs": [
    {
     "data": {
      "text/html": [
       "<div>\n",
       "<style scoped>\n",
       "    .dataframe tbody tr th:only-of-type {\n",
       "        vertical-align: middle;\n",
       "    }\n",
       "\n",
       "    .dataframe tbody tr th {\n",
       "        vertical-align: top;\n",
       "    }\n",
       "\n",
       "    .dataframe thead th {\n",
       "        text-align: right;\n",
       "    }\n",
       "</style>\n",
       "<table border=\"1\" class=\"dataframe\">\n",
       "  <thead>\n",
       "    <tr style=\"text-align: right;\">\n",
       "      <th></th>\n",
       "      <th>Model</th>\n",
       "    </tr>\n",
       "    <tr>\n",
       "      <th>Score</th>\n",
       "      <th></th>\n",
       "    </tr>\n",
       "  </thead>\n",
       "  <tbody>\n",
       "    <tr>\n",
       "      <th>0.905611</th>\n",
       "      <td>Gradient Boosting Classifier</td>\n",
       "    </tr>\n",
       "    <tr>\n",
       "      <th>0.905130</th>\n",
       "      <td>Ada Boosting Classifier</td>\n",
       "    </tr>\n",
       "    <tr>\n",
       "      <th>0.902418</th>\n",
       "      <td>Logistic Regression</td>\n",
       "    </tr>\n",
       "    <tr>\n",
       "      <th>0.901190</th>\n",
       "      <td>Support Vector Machines</td>\n",
       "    </tr>\n",
       "    <tr>\n",
       "      <th>0.901083</th>\n",
       "      <td>BernoulliNB</td>\n",
       "    </tr>\n",
       "    <tr>\n",
       "      <th>0.874001</th>\n",
       "      <td>GaussianNB</td>\n",
       "    </tr>\n",
       "    <tr>\n",
       "      <th>0.839476</th>\n",
       "      <td>Decision Tree</td>\n",
       "    </tr>\n",
       "  </tbody>\n",
       "</table>\n",
       "</div>"
      ],
      "text/plain": [
       "                                 Model\n",
       "Score                                 \n",
       "0.905611  Gradient Boosting Classifier\n",
       "0.905130       Ada Boosting Classifier\n",
       "0.902418           Logistic Regression\n",
       "0.901190       Support Vector Machines\n",
       "0.901083                   BernoulliNB\n",
       "0.874001                    GaussianNB\n",
       "0.839476                 Decision Tree"
      ]
     },
     "execution_count": 69,
     "metadata": {},
     "output_type": "execute_result"
    }
   ],
   "source": [
    "result_df = results.sort_values(by=\"Score\", ascending=False)\n",
    "result_df = result_df.set_index(\"Score\")\n",
    "result_df.head(7)"
   ]
  },
  {
   "cell_type": "code",
   "execution_count": 70,
   "metadata": {},
   "outputs": [
    {
     "name": "stderr",
     "output_type": "stream",
     "text": [
      "C:\\Users\\ASUS\\anaconda3\\lib\\site-packages\\sklearn\\model_selection\\_split.py:297: FutureWarning: Setting a random_state has no effect since shuffle is False. This will raise an error in 0.24. You should leave random_state to its default (None), or set shuffle=True.\n",
      "  FutureWarning\n"
     ]
    },
    {
     "name": "stdout",
     "output_type": "stream",
     "text": [
      "Scores: [0.84332202 0.88169992 0.8939076  0.91637737 0.90294892 0.91855186\n",
      " 0.91786518 0.92717354 0.92278346 0.93148176]\n",
      "Mean: 0.9056111634121315\n",
      "Standard Deviation: 0.025413366538935115\n"
     ]
    }
   ],
   "source": [
    "kfold = model_selection.KFold(n_splits=10, random_state=7)\n",
    "gB = GradientBoostingClassifier(n_estimators=100, random_state=7)\n",
    "scores = model_selection.cross_val_score(gB, X_train, y_train, cv=kfold, scoring =\"accuracy\")\n",
    "print(\"Scores:\", scores)\n",
    "print(\"Mean:\", scores.mean())\n",
    "print(\"Standard Deviation:\", scores.std())"
   ]
  },
  {
   "cell_type": "code",
   "execution_count": 71,
   "metadata": {},
   "outputs": [
    {
     "name": "stdout",
     "output_type": "stream",
     "text": [
      "Scores: [0.2084558  0.12208035 0.13438868 0.07881773 0.11390977 0.10502693\n",
      " 0.11453744 0.09884014 0.09095284 0.09124867]\n",
      "Mean: 0.1158258360856667\n",
      "Standard Deviation: 0.03459302331421297\n"
     ]
    }
   ],
   "source": [
    "gB = GradientBoostingClassifier(n_estimators=100, random_state=7)\n",
    "scores = model_selection.cross_val_score(gB, X_train, y_train, cv=kfold, scoring =\"recall\")\n",
    "print(\"Scores:\", scores)\n",
    "print(\"Mean:\", scores.mean())\n",
    "print(\"Standard Deviation:\", scores.std())"
   ]
  },
  {
   "cell_type": "code",
   "execution_count": 76,
   "metadata": {},
   "outputs": [
    {
     "name": "stdout",
     "output_type": "stream",
     "text": [
      "Scores: [0.60340314 0.58160237 0.65409836 0.5659164  0.61836735 0.624\n",
      " 0.64516129 0.6163522  0.58333333 0.64772727]\n",
      "Mean: 0.6139961719197885\n",
      "Standard Deviation: 0.028732240843360228\n"
     ]
    }
   ],
   "source": [
    "gB = GradientBoostingClassifier(n_estimators=100, random_state=7)\n",
    "gB.fit(X_train,y_train)\n",
    "scores = model_selection.cross_val_score(gB, X_train, y_train, cv=kfold, scoring =\"precision\")\n",
    "print(\"Scores:\", scores)\n",
    "print(\"Mean:\", scores.mean())\n",
    "print(\"Standard Deviation:\", scores.std())"
   ]
  },
  {
   "cell_type": "code",
   "execution_count": 77,
   "metadata": {
    "scrolled": true
   },
   "outputs": [
    {
     "data": {
      "text/html": [
       "<div>\n",
       "<style scoped>\n",
       "    .dataframe tbody tr th:only-of-type {\n",
       "        vertical-align: middle;\n",
       "    }\n",
       "\n",
       "    .dataframe tbody tr th {\n",
       "        vertical-align: top;\n",
       "    }\n",
       "\n",
       "    .dataframe thead th {\n",
       "        text-align: right;\n",
       "    }\n",
       "</style>\n",
       "<table border=\"1\" class=\"dataframe\">\n",
       "  <thead>\n",
       "    <tr style=\"text-align: right;\">\n",
       "      <th></th>\n",
       "      <th>importance</th>\n",
       "    </tr>\n",
       "    <tr>\n",
       "      <th>feature</th>\n",
       "      <th></th>\n",
       "    </tr>\n",
       "  </thead>\n",
       "  <tbody>\n",
       "    <tr>\n",
       "      <th>user_product_order_freq</th>\n",
       "      <td>0.854</td>\n",
       "    </tr>\n",
       "    <tr>\n",
       "      <th>user_product_total_orders</th>\n",
       "      <td>0.061</td>\n",
       "    </tr>\n",
       "    <tr>\n",
       "      <th>product_total_orders</th>\n",
       "      <td>0.032</td>\n",
       "    </tr>\n",
       "    <tr>\n",
       "      <th>product_avg_add_to_cart_order</th>\n",
       "      <td>0.015</td>\n",
       "    </tr>\n",
       "    <tr>\n",
       "      <th>user_avg_cartsize</th>\n",
       "      <td>0.012</td>\n",
       "    </tr>\n",
       "    <tr>\n",
       "      <th>user_total_products</th>\n",
       "      <td>0.009</td>\n",
       "    </tr>\n",
       "    <tr>\n",
       "      <th>user_total_orders</th>\n",
       "      <td>0.006</td>\n",
       "    </tr>\n",
       "    <tr>\n",
       "      <th>user_avg_since_prior_order</th>\n",
       "      <td>0.006</td>\n",
       "    </tr>\n",
       "    <tr>\n",
       "      <th>user_product_avg_add_to_cart_order</th>\n",
       "      <td>0.004</td>\n",
       "    </tr>\n",
       "    <tr>\n",
       "      <th>department_id</th>\n",
       "      <td>0.002</td>\n",
       "    </tr>\n",
       "    <tr>\n",
       "      <th>aisle_id</th>\n",
       "      <td>0.001</td>\n",
       "    </tr>\n",
       "  </tbody>\n",
       "</table>\n",
       "</div>"
      ],
      "text/plain": [
       "                                    importance\n",
       "feature                                       \n",
       "user_product_order_freq                  0.854\n",
       "user_product_total_orders                0.061\n",
       "product_total_orders                     0.032\n",
       "product_avg_add_to_cart_order            0.015\n",
       "user_avg_cartsize                        0.012\n",
       "user_total_products                      0.009\n",
       "user_total_orders                        0.006\n",
       "user_avg_since_prior_order               0.006\n",
       "user_product_avg_add_to_cart_order       0.004\n",
       "department_id                            0.002\n",
       "aisle_id                                 0.001"
      ]
     },
     "execution_count": 77,
     "metadata": {},
     "output_type": "execute_result"
    }
   ],
   "source": [
    "importances = pd.DataFrame({\"feature\": X_train.columns,\"importance\":np.round(gB.feature_importances_,3)})\n",
    "importances = importances.sort_values(\"importance\", ascending=False).set_index(\"feature\")\n",
    "importances.head(15)\n"
   ]
  },
  {
   "cell_type": "code",
   "execution_count": 78,
   "metadata": {},
   "outputs": [
    {
     "data": {
      "text/plain": [
       "<matplotlib.axes._subplots.AxesSubplot at 0x12690e54208>"
      ]
     },
     "execution_count": 78,
     "metadata": {},
     "output_type": "execute_result"
    },
    {
     "data": {
      "image/png": "[encoded data removed]",
      "text/plain": [
       "<Figure size 432x288 with 1 Axes>"
      ]
     },
     "metadata": {
      "needs_background": "light"
     },
     "output_type": "display_data"
    }
   ],
   "source": [
    "importances.plot.bar()"
   ]
  },
  {
   "cell_type": "code",
   "execution_count": 79,
   "metadata": {},
   "outputs": [],
   "source": [
    "df_X = df_X.drop(\"user_product_total_orders\",axis=1)\n",
    "df_X = df_X.drop(\"user_total_orders\",axis=1)\n",
    "df_X = df_X.drop(\"department_id\",axis=1)\n",
    "df_X = df_X.drop(\"aisle_id\",axis=1)\n",
    "df_X = df_X.drop(\"user_total_products\",axis=1)\n",
    "df_X = df_X.drop(\"user_avg_cartsize\",axis=1)"
   ]
  },
  {
   "cell_type": "code",
   "execution_count": 80,
   "metadata": {},
   "outputs": [
    {
     "name": "stderr",
     "output_type": "stream",
     "text": [
      "C:\\Users\\ASUS\\anaconda3\\lib\\site-packages\\sklearn\\model_selection\\_split.py:297: FutureWarning: Setting a random_state has no effect since shuffle is False. This will raise an error in 0.24. You should leave random_state to its default (None), or set shuffle=True.\n",
      "  FutureWarning\n"
     ]
    }
   ],
   "source": [
    "kfold = model_selection.KFold(n_splits=10, random_state=7)\n",
    "gb = GradientBoostingClassifier(n_estimators=100,random_state=7)\n",
    "results=model_selection.cross_val_score(gb, X_train, y_train, cv = kfold)\n",
    "acc_gradiant = results.mean()"
   ]
  },
  {
   "cell_type": "code",
   "execution_count": 82,
   "metadata": {},
   "outputs": [
    {
     "name": "stdout",
     "output_type": "stream",
     "text": [
      "0.9056111634121315\n"
     ]
    }
   ],
   "source": [
    "print(acc_gradiant)"
   ]
  },
  {
   "cell_type": "code",
   "execution_count": 87,
   "metadata": {},
   "outputs": [
    {
     "name": "stdout",
     "output_type": "stream",
     "text": [
      "Precision: 0.2496249506514015\n",
      "Recall: 0.2438582282386517\n"
     ]
    }
   ],
   "source": [
    "predictions = cross_val_predict(gb, X_train, y_train, cv=kfold)\n",
    "confusion_matrix(y_train, predictions)\n",
    "\n",
    "print(\"Precision:\", precision_score(y_train, predictions))\n",
    "print(\"Recall:\",recall_score(y_train, predictions))"
   ]
  },
  {
   "cell_type": "code",
   "execution_count": 88,
   "metadata": {},
   "outputs": [],
   "source": [
    "df_X = df_X.drop(\"product_avg_add_to_cart_order\",axis=1)"
   ]
  },
  {
   "cell_type": "code",
   "execution_count": 89,
   "metadata": {},
   "outputs": [
    {
     "name": "stderr",
     "output_type": "stream",
     "text": [
      "C:\\Users\\ASUS\\anaconda3\\lib\\site-packages\\sklearn\\model_selection\\_split.py:297: FutureWarning: Setting a random_state has no effect since shuffle is False. This will raise an error in 0.24. You should leave random_state to its default (None), or set shuffle=True.\n",
      "  FutureWarning\n"
     ]
    }
   ],
   "source": [
    "kfold = model_selection.KFold(n_splits=10, random_state=7)\n",
    "gb = GradientBoostingClassifier(n_estimators=100,random_state=7)\n",
    "results=model_selection.cross_val_score(gb, X_train, y_train, cv = kfold)\n",
    "acc_gradiant = results.mean()"
   ]
  },
  {
   "cell_type": "code",
   "execution_count": 95,
   "metadata": {},
   "outputs": [
    {
     "name": "stdout",
     "output_type": "stream",
     "text": [
      "Precision: 0.6120445535208608\n",
      "Recall: 0.12503374599868872\n"
     ]
    }
   ],
   "source": [
    "predictions = cross_val_predict(gb, X_train, y_train, cv=kfold)\n",
    "confusion_matrix(y_train, predictions)\n",
    "gB.fit(X_train,y_train)\n",
    "print(\"Precision:\", precision_score(y_train, predictions))\n",
    "print(\"Recall:\",recall_score(y_train, predictions))"
   ]
  },
  {
   "cell_type": "code",
   "execution_count": null,
   "metadata": {},
   "outputs": [],
   "source": []
  }
 ],
 "metadata": {
  "kernelspec": {
   "display_name": "Python 3",
   "language": "python",
   "name": "python3"
  },
  "language_info": {
   "codemirror_mode": {
    "name": "ipython",
    "version": 3
   },
   "file_extension": ".py",
   "mimetype": "text/x-python",
   "name": "python",
   "nbconvert_exporter": "python",
   "pygments_lexer": "ipython3",
   "version": "3.7.6"
  }
 },
 "nbformat": 4,
 "nbformat_minor": 4
}
